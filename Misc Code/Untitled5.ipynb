{
 "cells": [
  {
   "cell_type": "markdown",
   "metadata": {},
   "source": [
    "# Export Home Directory\n",
    "\n",
    "  Running this notebook will copy all of the files from your home directory to:\n",
    "\n",
    "  **gs://digital-pathology-392716-us-notebooks/us-central1-a/instance-20230726-182811**\n",
    "\n",
    "  See [gsutil](https://cloud.google.com/storage/docs/gsutil) documentation for\n",
    "  more information if you would like to customize the export behavior.\n",
    "  "
   ]
  },
  {
   "cell_type": "code",
   "execution_count": 3,
   "metadata": {},
   "outputs": [
    {
     "name": "stdout",
     "output_type": "stream",
     "text": [
      "gs://digital-pathology-392716-us-notebooks/\n",
      "Backing up data from /home/jupyter/Zip_file to gs://digital-pathology-392716-us-notebooks/...\n"
     ]
    },
    {
     "name": "stderr",
     "output_type": "stream",
     "text": [
      "Building synchronization state...\n",
      "Starting synchronization...\n",
      "Copying file:///home/jupyter/Zip_file/3.zip [Content-Type=application/zip]...\n",
      "==> NOTE: You are uploading one or more large file(s), which would run          \n",
      "significantly faster if you enable parallel composite uploads. This\n",
      "feature can be enabled by editing the\n",
      "\"parallel_composite_upload_threshold\" value in your .boto\n",
      "configuration file. However, note that if you do this large files will\n",
      "be uploaded as `composite objects\n",
      "<https://cloud.google.com/storage/docs/composite-objects>`_,which\n",
      "means that any user who downloads such objects will need to have a\n",
      "compiled crcmod installed (see \"gsutil help crcmod\"). This is because\n",
      "without a compiled crcmod, computing checksums on composite objects is\n",
      "so slow that gsutil disables downloads of composite objects.\n",
      "\n",
      "Copying file:///home/jupyter/Zip_file/4.zip [Content-Type=application/zip]...\n",
      "Copying file:///home/jupyter/Zip_file/5.zip [Content-Type=application/zip]...   \n",
      "\\ [3/3 files][170.3 GiB/170.3 GiB] 100% Done  94.8 MiB/s ETA 00:00:00           \n",
      "Operation completed over 3 objects/170.3 GiB.                                    \n"
     ]
    }
   ],
   "source": [
    "%%bash\n",
    "BUCKET=\"gs://digital-pathology-392716-us-notebooks\"\n",
    "FOLDER=\"\"\n",
    "SOURCE_FOLDER=\"/home/jupyter/Zip_file\"\n",
    "\n",
    "gsutil ls -b \"${BUCKET}\"\n",
    "if [[ \"${?}\" != 0 ]] ; then\n",
    "  echo \"${BUCKET} does not exist, will attempt to create\"\n",
    "  gsutil mb \"${BUCKET}\"\n",
    "fi\n",
    "\n",
    "echo \"Backing up data from ${SOURCE_FOLDER} to ${BUCKET}/${FOLDER}...\"\n",
    "gsutil -m rsync -r -x '^\\.|\\/\\.' \"${SOURCE_FOLDER}/\" \"${BUCKET}/${FOLDER}/\"\n"
   ]
  }
 ],
 "metadata": {
  "environment": {
   "kernel": "conda-root-py",
   "name": "workbench-notebooks.m109",
   "type": "gcloud",
   "uri": "gcr.io/deeplearning-platform-release/workbench-notebooks:m109"
  },
  "kernelspec": {
   "display_name": "Python 3",
   "language": "python",
   "name": "conda-root-py"
  },
  "language_info": {
   "codemirror_mode": {
    "name": "ipython",
    "version": 3
   },
   "file_extension": ".py",
   "mimetype": "text/x-python",
   "name": "python",
   "nbconvert_exporter": "python",
   "pygments_lexer": "ipython3",
   "version": "3.10.12"
  }
 },
 "nbformat": 4,
 "nbformat_minor": 4
}
