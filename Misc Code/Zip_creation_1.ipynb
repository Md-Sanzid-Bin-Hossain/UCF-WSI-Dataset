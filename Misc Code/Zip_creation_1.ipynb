{
 "cells": [
  {
   "cell_type": "code",
   "execution_count": 11,
   "id": "2cc60d00-2cde-4e81-96d2-187a0ee9a964",
   "metadata": {},
   "outputs": [
    {
     "name": "stdout",
     "output_type": "stream",
     "text": [
      "hello world\n"
     ]
    }
   ],
   "source": [
    "import shutil\n",
    "print(\"hello world\")\n",
    "# def create_zip_archive(source_folder, destination_zip):\n",
    "#     try:\n",
    "#         # Create a zip archive of the source folder\n",
    "#         shutil.make_archive(destination_zip, 'zip', source_folder)\n",
    "#         print(f\"Zip archive created: '{destination_zip}.zip'\")\n",
    "#     except Exception as e:\n",
    "#         print(f\"An error occurred: {e}\")\n",
    "\n",
    "# # Call the function with source folder and destination zip filename\n",
    "# # source_folder = \"/home/jupyter/Patch_extraction/0/76312\"\n",
    "# source_folder = \"/home/jupyter/Patch_extraction\"\n",
    "# # destination_zip = \"/home/jupyter/Zip file/0/76312\"\n",
    "# destination_zip = \"/home/jupyter/Zip file\"\n",
    "# create_zip_archive(source_folder, destination_zip)\n"
   ]
  },
  {
   "cell_type": "code",
   "execution_count": null,
   "id": "a7c33193-6e48-4479-8e44-abb6665e738a",
   "metadata": {},
   "outputs": [],
   "source": []
  }
 ],
 "metadata": {
  "environment": {
   "kernel": "conda-root-py",
   "name": "workbench-notebooks.m109",
   "type": "gcloud",
   "uri": "gcr.io/deeplearning-platform-release/workbench-notebooks:m109"
  },
  "kernelspec": {
   "display_name": "Python 3",
   "language": "python",
   "name": "conda-root-py"
  },
  "language_info": {
   "codemirror_mode": {
    "name": "ipython",
    "version": 3
   },
   "file_extension": ".py",
   "mimetype": "text/x-python",
   "name": "python",
   "nbconvert_exporter": "python",
   "pygments_lexer": "ipython3",
   "version": "3.10.12"
  }
 },
 "nbformat": 4,
 "nbformat_minor": 5
}
