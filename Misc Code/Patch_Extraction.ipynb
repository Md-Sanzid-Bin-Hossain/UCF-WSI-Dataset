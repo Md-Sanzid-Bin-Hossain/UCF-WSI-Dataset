{
 "cells": [
  {
   "cell_type": "code",
   "execution_count": 22,
   "metadata": {
    "id": "iAyGkyJ9-4vI"
   },
   "outputs": [
    {
     "name": "stdout",
     "output_type": "stream",
     "text": [
      "Reading package lists... Done\n",
      "Building dependency tree... Done\n",
      "Reading state information... Done\n",
      "openslide-tools is already the newest version (3.4.1+dfsg-5).\n",
      "0 upgraded, 0 newly installed, 0 to remove and 19 not upgraded.\n",
      "Reading package lists... Done\n",
      "Building dependency tree... Done\n",
      "Reading state information... Done\n",
      "E: Unable to locate package python-openslide\n",
      "Requirement already satisfied: openslide-python in /opt/conda/envs/tensorflow/lib/python3.10/site-packages (1.3.0)\n",
      "Requirement already satisfied: Pillow in /opt/conda/envs/tensorflow/lib/python3.10/site-packages (from openslide-python) (10.0.0)\n",
      "Requirement already satisfied: opencv-python in /opt/conda/envs/tensorflow/lib/python3.10/site-packages (4.8.0.74)\n",
      "Requirement already satisfied: numpy>=1.21.2 in /opt/conda/envs/tensorflow/lib/python3.10/site-packages (from opencv-python) (1.23.5)\n"
     ]
    }
   ],
   "source": [
    "!sudo apt-get install openslide-tools -y\n",
    "!sudo apt-get install python-openslide -y\n",
    "!pip install openslide-python\n",
    "!pip install opencv-python"
   ]
  },
  {
   "cell_type": "code",
   "execution_count": 44,
   "metadata": {
    "colab": {
     "base_uri": "https://localhost:8080/"
    },
    "id": "iXVVoBnm-QG8",
    "outputId": "094fb26d-4d7d-4e5c-9211-5e44a7acaf91"
   },
   "outputs": [],
   "source": [
    "import openslide\n",
    "import numpy as np\n",
    "from PIL import Image\n",
    "\n",
    "import PIL\n",
    "\n",
    "import openslide\n",
    "import numpy as np\n",
    "import pandas as pd\n",
    "import matplotlib\n",
    "import matplotlib.pyplot as plt\n",
    "from PIL import Image\n",
    "import cv2 as cv\n",
    "import h5py\n",
    "import os\n",
    "\n",
    "PIL.Image.MAX_IMAGE_PIXELS = 164945368800 \n"
   ]
  },
  {
   "cell_type": "code",
   "execution_count": 45,
   "metadata": {
    "id": "Vn2qeNPz_LK4"
   },
   "outputs": [
    {
     "ename": "FileExistsError",
     "evalue": "[Errno 17] File exists: '/home/jupyter/Patch_extraction/2/76320/'",
     "output_type": "error",
     "traceback": [
      "\u001b[0;31m---------------------------------------------------------------------------\u001b[0m",
      "\u001b[0;31mFileExistsError\u001b[0m                           Traceback (most recent call last)",
      "Cell \u001b[0;32mIn[45], line 4\u001b[0m\n\u001b[1;32m      1\u001b[0m SLIDE_PATH \u001b[38;5;241m=\u001b[39m \u001b[38;5;124m\"\u001b[39m\u001b[38;5;124m/home/jupyter/cadaver slide/76320.svs\u001b[39m\u001b[38;5;124m\"\u001b[39m\n\u001b[1;32m      3\u001b[0m destination_PATH \u001b[38;5;241m=\u001b[39m \u001b[38;5;124m\"\u001b[39m\u001b[38;5;124m/home/jupyter/Patch_extraction/2/76320/\u001b[39m\u001b[38;5;124m\"\u001b[39m\n\u001b[0;32m----> 4\u001b[0m \u001b[43mos\u001b[49m\u001b[38;5;241;43m.\u001b[39;49m\u001b[43mmkdir\u001b[49m\u001b[43m(\u001b[49m\u001b[43mdestination_PATH\u001b[49m\u001b[43m)\u001b[49m\n",
      "\u001b[0;31mFileExistsError\u001b[0m: [Errno 17] File exists: '/home/jupyter/Patch_extraction/2/76320/'"
     ]
    }
   ],
   "source": [
    "SLIDE_PATH = \"/home/jupyter/cadaver slide/76308.svs\"\n",
    "\n",
    "destination_PATH = \"/home/jupyter/Patch_extraction/0/76308/\"\n",
    "os.mkdir(destination_PATH)"
   ]
  },
  {
   "cell_type": "code",
   "execution_count": 48,
   "metadata": {
    "id": "aDW9O1D6_S-s"
   },
   "outputs": [],
   "source": [
    "PERCENT_WHITE_PIXELS_THRESHOLD = 0.95\n",
    "SAT_THRESHOLD = 0.05\n",
    "MAX_PIXEL_THRESHOLD = 500\n",
    "\n",
    "TILE_SIZE = (512,512)\n",
    "TILE_NAME_PATTERN = \"76308\" # I find it most useful to use the slide name\n",
    "FORMAT = \"jpg\""
   ]
  },
  {
   "cell_type": "code",
   "execution_count": 49,
   "metadata": {
    "id": "atne_jrf_XT4"
   },
   "outputs": [],
   "source": [
    "def extract_tile(x_pos: int, y_pos: int, tile_size: tuple, opened_slide):\n",
    "    '''\n",
    "    extracts a tile from an OpenSlide object given a specific position\n",
    "    :param slide_path: path to whole slide image\n",
    "    :param x_pos: x coordinate of the top left corner of the tile\n",
    "    :param y_pos: y coordinate of the top left corner of the tile\n",
    "    :param opened_slide: OpenSlide object\n",
    "    :return: numpy array of the tile at the given position\n",
    "    '''\n",
    "\n",
    "    tile = opened_slide.read_region(location=(x_pos, y_pos), level=0, size=tile_size)\n",
    "\n",
    "    return tile"
   ]
  },
  {
   "cell_type": "code",
   "execution_count": 50,
   "metadata": {
    "id": "xFeL1r1f_Yz2"
   },
   "outputs": [],
   "source": [
    "def open_slide(slide_path: str):\n",
    "    '''\n",
    "    opens a slide with OpenSlide\n",
    "    :param slide_path: path to whole slide image\n",
    "    :return: opened slide object\n",
    "    '''\n",
    "    opened_slide = openslide.open_slide(slide_path)\n",
    "    return opened_slide"
   ]
  },
  {
   "cell_type": "code",
   "execution_count": 51,
   "metadata": {
    "id": "CE-87Wgh_aP6"
   },
   "outputs": [],
   "source": [
    "def is_patch_nonwhite(patch, white_thresh, sat_thresh):\n",
    "    hsv_patch = matplotlib.colors.rgb_to_hsv(patch)\n",
    "    saturation = hsv_patch[:,:,1]\n",
    "    percent = np.mean(saturation < SAT_THRESHOLD)\n",
    "    return percent <= PERCENT_WHITE_PIXELS_THRESHOLD\n"
   ]
  },
  {
   "cell_type": "code",
   "execution_count": 52,
   "metadata": {
    "id": "N4lOevO9_blz"
   },
   "outputs": [],
   "source": [
    "\n",
    "def is_grad_nonzero(patch, max_pixel_threshold):\n",
    "    gray = cv.cvtColor(np.array(patch), cv.COLOR_RGB2GRAY)\n",
    "    sobelx = cv.Sobel(gray, cv.CV_64F, 1, 0, ksize=5)\n",
    "    sobely = cv.Sobel(gray, cv.CV_64F, 0, 1, ksize=5)\n",
    "    mag = np.abs(sobelx) + np.abs(sobely)\n",
    "    return np.sum(mag == 0) <= max_pixel_threshold\n"
   ]
  },
  {
   "cell_type": "code",
   "execution_count": 53,
   "metadata": {
    "id": "6z11pL-t_d0Q"
   },
   "outputs": [],
   "source": [
    "\n",
    "def tile_entire_slide(slide_path: str, tile_size: tuple, tile_name_pattern: str, format: str):\n",
    "    '''\n",
    "    determines how many tiles a slide is made up from and tiles each valid position\n",
    "    :param slide_path: path to a whole slide image\n",
    "    :param tile_size: size of the tile (e.g. (512, 512))\n",
    "    :param tile_name_pattern: each tile will be named {tile_name_pattern}-{x_pos}-{y_pos}.{format}\n",
    "    :param format: file extension (must be valid PIL format) (e.g. jpeg, png, etc)\n",
    "    :return: None\n",
    "    '''\n",
    "\n",
    "    opened_slide = open_slide(slide_path)\n",
    "\n",
    "    # determine how many tiles the slide is made up of in the x direction\n",
    "    num_valid_x_pos = int(opened_slide.dimensions[0] / tile_size[0])\n",
    "    # determine how many tiles the slide is made up of in the y direction\n",
    "    num_valid_y_pos = int(opened_slide.dimensions[1] / tile_size[1])\n",
    "\n",
    "    # tile all valid tile positions within the slide\n",
    "    for x in range(num_valid_x_pos):\n",
    "        for y in range(num_valid_y_pos):\n",
    "            tile = extract_tile(x_pos=x*tile_size[0], y_pos=y*tile_size[1],tile_size=tile_size, opened_slide=opened_slide).convert('RGB')\n",
    "            is_nonwhite = is_patch_nonwhite(tile, white_thresh=PERCENT_WHITE_PIXELS_THRESHOLD, sat_thresh=SAT_THRESHOLD)\\\n",
    "                    and is_grad_nonzero(tile, max_pixel_threshold=MAX_PIXEL_THRESHOLD)\n",
    "\n",
    "            if is_nonwhite:\n",
    "                tile = np.array(tile)\n",
    "                tile = Image.fromarray(tile)\n",
    "                # tile.save(\"/content/drive/MyDrive/cadaver project/17721+str(x).png\")\n",
    "                tile.save(destination_PATH + f'{tile_name_pattern}-{int(x*tile_size[0])}-{int(y*tile_size[1])}_class2.png')"
   ]
  },
  {
   "cell_type": "code",
   "execution_count": null,
   "metadata": {
    "id": "pJIDjrjs_gUr"
   },
   "outputs": [],
   "source": [
    "def main():\n",
    "    '''\n",
    "    tiles the whole slide image\n",
    "    '''\n",
    "    tile_entire_slide(\n",
    "        slide_path=SLIDE_PATH,\n",
    "        tile_size=TILE_SIZE,\n",
    "        tile_name_pattern=TILE_NAME_PATTERN,\n",
    "        format=FORMAT\n",
    "    )\n",
    "\n",
    "if __name__ == '__main__':\n",
    "    main()"
   ]
  }
 ],
 "metadata": {
  "colab": {
   "provenance": []
  },
  "environment": {
   "kernel": "conda-env-tensorflow-tensorflow",
   "name": "workbench-notebooks.m109",
   "type": "gcloud",
   "uri": "gcr.io/deeplearning-platform-release/workbench-notebooks:m109"
  },
  "kernelspec": {
   "display_name": "TensorFlow 2-11",
   "language": "python",
   "name": "conda-env-tensorflow-tensorflow"
  },
  "language_info": {
   "codemirror_mode": {
    "name": "ipython",
    "version": 3
   },
   "file_extension": ".py",
   "mimetype": "text/x-python",
   "name": "python",
   "nbconvert_exporter": "python",
   "pygments_lexer": "ipython3",
   "version": "3.10.12"
  }
 },
 "nbformat": 4,
 "nbformat_minor": 4
}
