{
 "cells": [
  {
   "cell_type": "code",
   "execution_count": 1,
   "metadata": {
    "id": "iAyGkyJ9-4vI"
   },
   "outputs": [
    {
     "name": "stdout",
     "output_type": "stream",
     "text": [
      "Reading package lists... Done\n",
      "Building dependency tree... Done\n",
      "Reading state information... Done\n",
      "openslide-tools is already the newest version (3.4.1+dfsg-5).\n",
      "0 upgraded, 0 newly installed, 0 to remove and 16 not upgraded.\n",
      "Reading package lists... Done\n",
      "Building dependency tree... Done\n",
      "Reading state information... Done\n",
      "E: Unable to locate package python-openslide\n",
      "Requirement already satisfied: openslide-python in /opt/conda/envs/tensorflow/lib/python3.10/site-packages (1.3.0)\n",
      "Requirement already satisfied: Pillow in /opt/conda/envs/tensorflow/lib/python3.10/site-packages (from openslide-python) (10.0.0)\n",
      "Requirement already satisfied: opencv-python in /opt/conda/envs/tensorflow/lib/python3.10/site-packages (4.8.0.74)\n",
      "Requirement already satisfied: numpy>=1.21.2 in /opt/conda/envs/tensorflow/lib/python3.10/site-packages (from opencv-python) (1.23.5)\n"
     ]
    }
   ],
   "source": [
    "!sudo apt-get install openslide-tools -y\n",
    "!sudo apt-get install python-openslide -y\n",
    "!pip install openslide-python\n",
    "!pip install opencv-python"
   ]
  },
  {
   "cell_type": "code",
   "execution_count": 2,
   "metadata": {
    "colab": {
     "base_uri": "https://localhost:8080/"
    },
    "id": "iXVVoBnm-QG8",
    "outputId": "094fb26d-4d7d-4e5c-9211-5e44a7acaf91"
   },
   "outputs": [],
   "source": [
    "import openslide\n",
    "import numpy as np\n",
    "from PIL import Image\n",
    "\n",
    "import PIL\n",
    "\n",
    "import openslide\n",
    "import numpy as np\n",
    "import pandas as pd\n",
    "import matplotlib\n",
    "import matplotlib.pyplot as plt\n",
    "from PIL import Image\n",
    "import cv2 as cv\n",
    "import h5py\n",
    "import os\n",
    "\n",
    "PIL.Image.MAX_IMAGE_PIXELS = 164945368800 \n"
   ]
  },
  {
   "cell_type": "code",
   "execution_count": 3,
   "metadata": {
    "id": "Vn2qeNPz_LK4"
   },
   "outputs": [],
   "source": [
    "class_id=0\n",
    "slide_name=77071\n",
    "\n",
    "\n",
    "SLIDE_PATH = '/home/jupyter/cadaver slide/'+str(slide_name)+'.svs'\n",
    "destination_PATH = '/home/jupyter/Patch_extraction/'+str(class_id)+'/'+str(slide_name)+'/'\n",
    "# os.mkdir(destination_PATH)"
   ]
  },
  {
   "cell_type": "code",
   "execution_count": 4,
   "metadata": {
    "id": "aDW9O1D6_S-s"
   },
   "outputs": [],
   "source": [
    "percent_white_pix = 0.95\n",
    "thresh_sat = 0.05\n",
    "thresh_max_pix = 500\n",
    "\n",
    "patch_size = (512,512)\n",
    "patch_prefix = str(slide_name) # I find it most useful to use the slide name\n"
   ]
  },
  {
   "cell_type": "code",
   "execution_count": 5,
   "metadata": {},
   "outputs": [],
   "source": [
    "# def patch_selection(patch, percent_white_pix, thresh_sat, thresh_max_pix):\n",
    "def patch_selection(patch):\n",
    "\n",
    "    hsv_patch = matplotlib.colors.rgb_to_hsv(patch)\n",
    "    saturation = hsv_patch[:,:,1]\n",
    "    percent = np.mean(saturation < thresh_sat)\n",
    "\n",
    "    gray = cv.cvtColor(np.array(patch), cv.COLOR_RGB2GRAY)\n",
    "    sobelx = cv.Sobel(gray, cv.CV_64F, 1, 0, ksize=5)\n",
    "    sobely = cv.Sobel(gray, cv.CV_64F, 0, 1, ksize=5)\n",
    "    gradient_magnitude = np.sqrt(sobelx**2 + sobely**2)\n",
    "\n",
    "    return percent <= percent_white_pix and np.sum(gradient_magnitude == 0) <= thresh_max_pix"
   ]
  },
  {
   "cell_type": "code",
   "execution_count": 6,
   "metadata": {
    "id": "6z11pL-t_d0Q"
   },
   "outputs": [],
   "source": [
    "slide = openslide.open_slide(SLIDE_PATH)\n",
    "\n",
    "# determine how many tiles the slide is made up of in the x direction\n",
    "valid_x = int(slide.dimensions[0] / patch_size[0])\n",
    "# determine how many tiles the slide is made up of in the y direction\n",
    "valid_y = int(slide.dimensions[1] / patch_size[1])\n",
    "\n",
    "# tile all valid tile positions within the slide\n",
    "for x in range(valid_x):\n",
    "    for y in range(valid_y):\n",
    "        tile = slide.read_region(location=(x*patch_size[0], y*patch_size[1]),size=patch_size,level=0).convert('RGB')\n",
    "        is_nonwhite =patch_selection(tile)\n",
    "\n",
    "        if is_nonwhite:\n",
    "            tile = np.array(tile)\n",
    "            tile = Image.fromarray(tile)\n",
    "            tile.save(destination_PATH + f'{patch_prefix}-{int(x*patch_size[0])}-{int(y*patch_size[1])}_class'+str(class_id)+'.png')"
   ]
  }
 ],
 "metadata": {
  "colab": {
   "provenance": []
  },
  "environment": {
   "kernel": "conda-env-tensorflow-tensorflow",
   "name": "workbench-notebooks.m109",
   "type": "gcloud",
   "uri": "gcr.io/deeplearning-platform-release/workbench-notebooks:m109"
  },
  "kernelspec": {
   "display_name": "TensorFlow 2-11",
   "language": "python",
   "name": "conda-env-tensorflow-tensorflow"
  },
  "language_info": {
   "codemirror_mode": {
    "name": "ipython",
    "version": 3
   },
   "file_extension": ".py",
   "mimetype": "text/x-python",
   "name": "python",
   "nbconvert_exporter": "python",
   "pygments_lexer": "ipython3",
   "version": "3.10.12"
  }
 },
 "nbformat": 4,
 "nbformat_minor": 4
}
