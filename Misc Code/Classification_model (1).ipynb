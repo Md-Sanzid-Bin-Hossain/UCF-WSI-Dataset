{
 "cells": [
  {
   "cell_type": "code",
   "execution_count": 1,
   "id": "b1b50a92-30fd-4851-ac84-3cf771f1b288",
   "metadata": {},
   "outputs": [
    {
     "name": "stdout",
     "output_type": "stream",
     "text": [
      "Reading package lists... Done\n",
      "Building dependency tree... Done\n",
      "Reading state information... Done\n",
      "openslide-tools is already the newest version (3.4.1+dfsg-5).\n",
      "0 upgraded, 0 newly installed, 0 to remove and 16 not upgraded.\n",
      "Reading package lists... Done\n",
      "Building dependency tree... Done\n",
      "Reading state information... Done\n",
      "E: Unable to locate package python-openslide\n",
      "Requirement already satisfied: openslide-python in /opt/conda/envs/tensorflow/lib/python3.10/site-packages (1.3.0)\n",
      "Requirement already satisfied: Pillow in /opt/conda/envs/tensorflow/lib/python3.10/site-packages (from openslide-python) (10.0.0)\n",
      "Requirement already satisfied: opencv-python in /opt/conda/envs/tensorflow/lib/python3.10/site-packages (4.8.0.74)\n",
      "Requirement already satisfied: numpy>=1.21.2 in /opt/conda/envs/tensorflow/lib/python3.10/site-packages (from opencv-python) (1.23.5)\n"
     ]
    }
   ],
   "source": [
    "!sudo apt-get install openslide-tools -y\n",
    "!sudo apt-get install python-openslide -y\n",
    "!pip install openslide-python\n",
    "!pip install opencv-python"
   ]
  },
  {
   "cell_type": "code",
   "execution_count": 2,
   "id": "1ca0a485-7e9f-499d-83a8-451743c28557",
   "metadata": {},
   "outputs": [
    {
     "name": "stdout",
     "output_type": "stream",
     "text": [
      "Requirement already satisfied: keras_preprocessing in /opt/conda/envs/tensorflow/lib/python3.10/site-packages (1.1.2)\n",
      "Requirement already satisfied: numpy>=1.9.1 in /opt/conda/envs/tensorflow/lib/python3.10/site-packages (from keras_preprocessing) (1.23.5)\n",
      "Requirement already satisfied: six>=1.9.0 in /opt/conda/envs/tensorflow/lib/python3.10/site-packages (from keras_preprocessing) (1.16.0)\n"
     ]
    }
   ],
   "source": [
    "!pip install keras_preprocessing"
   ]
  },
  {
   "cell_type": "code",
   "execution_count": 3,
   "id": "da76c33a-6fbf-4be5-b191-30ab8c07479f",
   "metadata": {
    "id": "da76c33a-6fbf-4be5-b191-30ab8c07479f",
    "outputId": "9ccc6b4b-8bab-436a-e686-7dca1c8bb127"
   },
   "outputs": [
    {
     "name": "stderr",
     "output_type": "stream",
     "text": [
      "2024-07-19 14:48:02.157499: I tensorflow/core/platform/cpu_feature_guard.cc:193] This TensorFlow binary is optimized with oneAPI Deep Neural Network Library (oneDNN) to use the following CPU instructions in performance-critical operations:  AVX2 FMA\n",
      "To enable them in other operations, rebuild TensorFlow with the appropriate compiler flags.\n",
      "2024-07-19 14:48:07.453073: W tensorflow/compiler/xla/stream_executor/platform/default/dso_loader.cc:64] Could not load dynamic library 'libnvinfer.so.7'; dlerror: libnvinfer.so.7: cannot open shared object file: No such file or directory; LD_LIBRARY_PATH: /opt/conda/envs/tensorflow/lib/python3.10/site-packages/cv2/../../lib64:/usr/local/cuda/lib64:/usr/local/nccl2/lib:/usr/local/cuda/extras/CUPTI/lib64\n",
      "2024-07-19 14:48:07.455242: W tensorflow/compiler/xla/stream_executor/platform/default/dso_loader.cc:64] Could not load dynamic library 'libnvinfer_plugin.so.7'; dlerror: libnvinfer_plugin.so.7: cannot open shared object file: No such file or directory; LD_LIBRARY_PATH: /opt/conda/envs/tensorflow/lib/python3.10/site-packages/cv2/../../lib64:/usr/local/cuda/lib64:/usr/local/nccl2/lib:/usr/local/cuda/extras/CUPTI/lib64\n",
      "2024-07-19 14:48:07.455258: W tensorflow/compiler/tf2tensorrt/utils/py_utils.cc:38] TF-TRT Warning: Cannot dlopen some TensorRT libraries. If you would like to use Nvidia GPU with TensorRT, please make sure the missing libraries mentioned above are installed properly.\n",
      "2024-07-19 14:48:13.611983: I tensorflow/core/platform/cpu_feature_guard.cc:193] This TensorFlow binary is optimized with oneAPI Deep Neural Network Library (oneDNN) to use the following CPU instructions in performance-critical operations:  AVX2 FMA\n",
      "To enable them in other operations, rebuild TensorFlow with the appropriate compiler flags.\n"
     ]
    },
    {
     "name": "stdout",
     "output_type": "stream",
     "text": [
      "[name: \"/device:CPU:0\"\n",
      "device_type: \"CPU\"\n",
      "memory_limit: 268435456\n",
      "locality {\n",
      "}\n",
      "incarnation: 17650710032988155812\n",
      "xla_global_id: -1\n",
      "]\n"
     ]
    },
    {
     "name": "stderr",
     "output_type": "stream",
     "text": [
      "2024-07-19 14:48:13.816453: E tensorflow/compiler/xla/stream_executor/cuda/cuda_driver.cc:267] failed call to cuInit: CUDA_ERROR_NO_DEVICE: no CUDA-capable device is detected\n",
      "2024-07-19 14:48:13.816521: I tensorflow/compiler/xla/stream_executor/cuda/cuda_diagnostics.cc:156] kernel driver does not appear to be running on this host (instance-20230726-182811): /proc/driver/nvidia/version does not exist\n"
     ]
    }
   ],
   "source": [
    "import numpy as np\n",
    "import pandas as pd\n",
    "import os\n",
    "import itertools\n",
    "import os, stat, time\n",
    "from os.path import dirname as up\n",
    "import shutil\n",
    "from PIL import Image\n",
    "from tqdm.notebook import tqdm\n",
    "import matplotlib.pyplot as plt\n",
    "import matplotlib.image as mpimg\n",
    "import cv2\n",
    "from tensorflow.keras.applications import  ResNet50, MobileNet, MobileNetV2, VGG19, InceptionV3, EfficientNetB0\n",
    "from tensorflow.keras.preprocessing.image import ImageDataGenerator\n",
    "\n",
    "from tensorflow.keras import datasets, layers, models\n",
    "\n",
    "import tensorflow as tf\n",
    "\n",
    "from sklearn.model_selection import train_test_split\n",
    "from tensorflow.keras.utils import to_categorical\n",
    "\n",
    "from tensorflow.keras import Sequential\n",
    "from tensorflow.keras.optimizers import SGD, RMSprop, Adam, Adagrad, Adadelta\n",
    "from tensorflow.keras.layers import Dense, Dropout, Activation, Flatten, BatchNormalization, Conv2D, MaxPool2D, MaxPooling2D\n",
    "from tensorflow.keras.callbacks import EarlyStopping\n",
    "\n",
    "config = tf.compat.v1.ConfigProto()\n",
    "config.gpu_options.allow_growth=True\n",
    "sess = tf.compat.v1.Session(config=config)\n",
    "\n",
    "from tensorflow.python.client import device_lib\n",
    "print(device_lib.list_local_devices())\n",
    "\n",
    "import numpy as np\n",
    "import pandas as pd\n",
    "from tqdm.notebook import tqdm\n",
    "\n",
    "import random\n",
    "from tensorflow.keras.regularizers import l2\n",
    "\n",
    "\n",
    "\n",
    "import cv2\n",
    "from tqdm.notebook import tqdm\n",
    "import keras_preprocessing.image as IMAGE\n",
    "from PIL import Image\n",
    "from sklearn.model_selection import train_test_split"
   ]
  },
  {
   "cell_type": "code",
   "execution_count": 4,
   "id": "1df8f391-258a-4aee-8ed6-4e70905cb788",
   "metadata": {
    "id": "1df8f391-258a-4aee-8ed6-4e70905cb788"
   },
   "outputs": [],
   "source": [
    "path='/home/jupyter/Patch_extraction/'\n",
    "base = '/home/jupyter/Patch_extraction/'"
   ]
  },
  {
   "cell_type": "code",
   "execution_count": 5,
   "id": "fce57507-478f-40bc-b463-ed3d846bac0c",
   "metadata": {
    "id": "fce57507-478f-40bc-b463-ed3d846bac0c"
   },
   "outputs": [],
   "source": [
    "rm -rf `find -type d -name .ipynb_checkpoints`"
   ]
  },
  {
   "cell_type": "code",
   "execution_count": 6,
   "id": "5c42e39b-b88f-411d-8e65-1307da897ace",
   "metadata": {},
   "outputs": [],
   "source": [
    "# def patch_selection(ids, i):\n",
    "#     data = []\n",
    "\n",
    "#     for id in tqdm(ids):\n",
    "#         try:\n",
    "#             files1 = os.listdir(os.path.join(base, str(i), id))\n",
    "#             # Select all files\n",
    "#             selected_files = files1\n",
    "\n",
    "#             for x in selected_files:\n",
    "#                 data.append(os.path.join(base, str(i), id, x))\n",
    "#         except FileNotFoundError:\n",
    "#             pass\n",
    "        \n",
    "#     return data "
   ]
  },
  {
   "cell_type": "code",
   "execution_count": 7,
   "id": "935b84ab-a4e4-42c7-b95c-46c62629f983",
   "metadata": {},
   "outputs": [],
   "source": [
    "# def patch_selection(ids,i):\n",
    "#     data = []\n",
    "\n",
    "#     for id in tqdm(ids):\n",
    "#         try:\n",
    "#             files1 = os.listdir(os.path.join(base+'/'+str(i)+'/', id))\n",
    "#             # Randomly select 100 images if there are more than 100\n",
    "#             if len(files1) > 100:\n",
    "#                 selected_files = random.sample(files1, 100)\n",
    "#             else:\n",
    "#                 selected_files = files1\n",
    "\n",
    "#             for x in selected_files:\n",
    "#                 data.append(os.path.join(base+'/'+str(i)+'/', id, x))\n",
    "#         except FileNotFoundError:\n",
    "#             pass\n",
    "        \n",
    "#     return data \n",
    "\n",
    "\n",
    "def patch_selection(ids, i):\n",
    "    data = []\n",
    "    labels = []\n",
    "\n",
    "    for id in tqdm(ids):\n",
    "        try:\n",
    "            files1 = os.listdir(os.path.join(base, str(i), id))\n",
    "            # Randomly select 100 images if there are more than 100\n",
    "            # if len(files1) > 100:\n",
    "            #     selected_files = random.sample(files1, 100)\n",
    "            # else:\n",
    "            selected_files = files1\n",
    "\n",
    "            for x in selected_files:\n",
    "                data.append(os.path.join(base, str(i), id, x))\n",
    "                labels.append(i)  # Append the class label based on the folder name\n",
    "        except FileNotFoundError:\n",
    "            pass\n",
    "\n",
    "    return data, labels\n"
   ]
  },
  {
   "cell_type": "code",
   "execution_count": 8,
   "id": "a0364559-bc67-4c43-8b36-439f90d4aaca",
   "metadata": {},
   "outputs": [
    {
     "name": "stdout",
     "output_type": "stream",
     "text": [
      "0\n",
      "['76592', '77147', '77316', '76930', '76590', '76328', '78415', '76693', '76529', '76591']\n",
      "\n",
      "\n"
     ]
    },
    {
     "data": {
      "application/vnd.jupyter.widget-view+json": {
       "model_id": "73d4cf6b2b9a475b93f6faa85a01121c",
       "version_major": 2,
       "version_minor": 0
      },
      "text/plain": [
       "  0%|          | 0/8 [00:00<?, ?it/s]"
      ]
     },
     "metadata": {},
     "output_type": "display_data"
    },
    {
     "data": {
      "application/vnd.jupyter.widget-view+json": {
       "model_id": "e3814e18157249e9b844c3681540cd9e",
       "version_major": 2,
       "version_minor": 0
      },
      "text/plain": [
       "  0%|          | 0/2 [00:00<?, ?it/s]"
      ]
     },
     "metadata": {},
     "output_type": "display_data"
    },
    {
     "name": "stdout",
     "output_type": "stream",
     "text": [
      "1\n",
      "['76936', '76973', '78100', '78630', '76520', '76849', '78775', '76470', '76647', '77496']\n",
      "\n",
      "\n"
     ]
    },
    {
     "data": {
      "application/vnd.jupyter.widget-view+json": {
       "model_id": "4bcd1019d41a4547b581e6d8fa0c6df7",
       "version_major": 2,
       "version_minor": 0
      },
      "text/plain": [
       "  0%|          | 0/8 [00:00<?, ?it/s]"
      ]
     },
     "metadata": {},
     "output_type": "display_data"
    },
    {
     "data": {
      "application/vnd.jupyter.widget-view+json": {
       "model_id": "8e99b98e889347249bf546a563be298b",
       "version_major": 2,
       "version_minor": 0
      },
      "text/plain": [
       "  0%|          | 0/2 [00:00<?, ?it/s]"
      ]
     },
     "metadata": {},
     "output_type": "display_data"
    },
    {
     "name": "stdout",
     "output_type": "stream",
     "text": [
      "2\n",
      "['78336', '77233', '78408', '78705', '78386', '76859', '78400', '76925', '77384', '78687']\n",
      "\n",
      "\n"
     ]
    },
    {
     "data": {
      "application/vnd.jupyter.widget-view+json": {
       "model_id": "91a20ff6b731471e8dba9232a893af24",
       "version_major": 2,
       "version_minor": 0
      },
      "text/plain": [
       "  0%|          | 0/8 [00:00<?, ?it/s]"
      ]
     },
     "metadata": {},
     "output_type": "display_data"
    },
    {
     "data": {
      "application/vnd.jupyter.widget-view+json": {
       "model_id": "675903e941b943e88431969a9e90edd1",
       "version_major": 2,
       "version_minor": 0
      },
      "text/plain": [
       "  0%|          | 0/2 [00:00<?, ?it/s]"
      ]
     },
     "metadata": {},
     "output_type": "display_data"
    },
    {
     "name": "stdout",
     "output_type": "stream",
     "text": [
      "3\n",
      "['76767', '76516', '76779', '76787', '76549', '76702', '76330', '76430', '76768', '76343']\n",
      "\n",
      "\n"
     ]
    },
    {
     "data": {
      "application/vnd.jupyter.widget-view+json": {
       "model_id": "fd1be7de37d140f4ba774094657acad9",
       "version_major": 2,
       "version_minor": 0
      },
      "text/plain": [
       "  0%|          | 0/8 [00:00<?, ?it/s]"
      ]
     },
     "metadata": {},
     "output_type": "display_data"
    },
    {
     "data": {
      "application/vnd.jupyter.widget-view+json": {
       "model_id": "5b12704b6bc14336bda5ecbc9bb9fc27",
       "version_major": 2,
       "version_minor": 0
      },
      "text/plain": [
       "  0%|          | 0/2 [00:00<?, ?it/s]"
      ]
     },
     "metadata": {},
     "output_type": "display_data"
    },
    {
     "name": "stdout",
     "output_type": "stream",
     "text": [
      "4\n",
      "['76974', '78688', '76505', '77000', '76462', '76523', '76402', '78616', '76850', '77095']\n",
      "\n",
      "\n"
     ]
    },
    {
     "data": {
      "application/vnd.jupyter.widget-view+json": {
       "model_id": "0c900a272b1e4f0b9c1a749d3a865fb6",
       "version_major": 2,
       "version_minor": 0
      },
      "text/plain": [
       "  0%|          | 0/8 [00:00<?, ?it/s]"
      ]
     },
     "metadata": {},
     "output_type": "display_data"
    },
    {
     "data": {
      "application/vnd.jupyter.widget-view+json": {
       "model_id": "d0a6ade4d4e246668d45e987279d28a7",
       "version_major": 2,
       "version_minor": 0
      },
      "text/plain": [
       "  0%|          | 0/2 [00:00<?, ?it/s]"
      ]
     },
     "metadata": {},
     "output_type": "display_data"
    },
    {
     "name": "stdout",
     "output_type": "stream",
     "text": [
      "5\n",
      "['77621', '78760', '76556', '77326', '77529', '76558', '76580', '77155', '76555', '76884']\n",
      "\n",
      "\n"
     ]
    },
    {
     "data": {
      "application/vnd.jupyter.widget-view+json": {
       "model_id": "837e445416434b6ca338b1aa209dac66",
       "version_major": 2,
       "version_minor": 0
      },
      "text/plain": [
       "  0%|          | 0/8 [00:00<?, ?it/s]"
      ]
     },
     "metadata": {},
     "output_type": "display_data"
    },
    {
     "data": {
      "application/vnd.jupyter.widget-view+json": {
       "model_id": "a64aa4ecce4b42f4b11474fbe24e7356",
       "version_major": 2,
       "version_minor": 0
      },
      "text/plain": [
       "  0%|          | 0/2 [00:00<?, ?it/s]"
      ]
     },
     "metadata": {},
     "output_type": "display_data"
    },
    {
     "name": "stdout",
     "output_type": "stream",
     "text": [
      "6\n",
      "['76603', '78555', '76588', '76939', '76962', '76454', '77184', '76736', '76426', '77283']\n",
      "\n",
      "\n"
     ]
    },
    {
     "data": {
      "application/vnd.jupyter.widget-view+json": {
       "model_id": "788e063184634b57b19808fa546e0cee",
       "version_major": 2,
       "version_minor": 0
      },
      "text/plain": [
       "  0%|          | 0/8 [00:00<?, ?it/s]"
      ]
     },
     "metadata": {},
     "output_type": "display_data"
    },
    {
     "data": {
      "application/vnd.jupyter.widget-view+json": {
       "model_id": "36cf3120df934b7689314b8380d3add5",
       "version_major": 2,
       "version_minor": 0
      },
      "text/plain": [
       "  0%|          | 0/2 [00:00<?, ?it/s]"
      ]
     },
     "metadata": {},
     "output_type": "display_data"
    },
    {
     "name": "stdout",
     "output_type": "stream",
     "text": [
      "7\n",
      "['76957', '76351', '77082', '78734', '76991', '78457', '77023', '77099', '76881', '77522']\n",
      "\n",
      "\n"
     ]
    },
    {
     "data": {
      "application/vnd.jupyter.widget-view+json": {
       "model_id": "1ba4c9666e6941c396aef62985f36af8",
       "version_major": 2,
       "version_minor": 0
      },
      "text/plain": [
       "  0%|          | 0/8 [00:00<?, ?it/s]"
      ]
     },
     "metadata": {},
     "output_type": "display_data"
    },
    {
     "data": {
      "application/vnd.jupyter.widget-view+json": {
       "model_id": "76dc2f4d0a564bcd9abb6bd8e7d499f6",
       "version_major": 2,
       "version_minor": 0
      },
      "text/plain": [
       "  0%|          | 0/2 [00:00<?, ?it/s]"
      ]
     },
     "metadata": {},
     "output_type": "display_data"
    },
    {
     "name": "stdout",
     "output_type": "stream",
     "text": [
      "8\n",
      "['77334', '77022', '77238', '77098', '76970', '76509', '76457', '76398', '77183', '77501']\n",
      "\n",
      "\n"
     ]
    },
    {
     "data": {
      "application/vnd.jupyter.widget-view+json": {
       "model_id": "676d61363e704931b4274d3a7a335ea2",
       "version_major": 2,
       "version_minor": 0
      },
      "text/plain": [
       "  0%|          | 0/8 [00:00<?, ?it/s]"
      ]
     },
     "metadata": {},
     "output_type": "display_data"
    },
    {
     "data": {
      "application/vnd.jupyter.widget-view+json": {
       "model_id": "925108d195d6426394d669dbeb6bcb2c",
       "version_major": 2,
       "version_minor": 0
      },
      "text/plain": [
       "  0%|          | 0/2 [00:00<?, ?it/s]"
      ]
     },
     "metadata": {},
     "output_type": "display_data"
    },
    {
     "name": "stdout",
     "output_type": "stream",
     "text": [
      "9\n",
      "['76747', '76649', '77081', '77336', '76720', '77159', '77411', '76538', '76494', '76466']\n",
      "\n",
      "\n"
     ]
    },
    {
     "data": {
      "application/vnd.jupyter.widget-view+json": {
       "model_id": "aef6eec2ef2f475aa893269a9251ec4c",
       "version_major": 2,
       "version_minor": 0
      },
      "text/plain": [
       "  0%|          | 0/8 [00:00<?, ?it/s]"
      ]
     },
     "metadata": {},
     "output_type": "display_data"
    },
    {
     "data": {
      "application/vnd.jupyter.widget-view+json": {
       "model_id": "527d392fb46a4fd98b93fc133addbda8",
       "version_major": 2,
       "version_minor": 0
      },
      "text/plain": [
       "  0%|          | 0/2 [00:00<?, ?it/s]"
      ]
     },
     "metadata": {},
     "output_type": "display_data"
    },
    {
     "name": "stdout",
     "output_type": "stream",
     "text": [
      "10\n",
      "['78431', '77451', '78438', '78105', '77254', '76582', '78432', '77450']\n",
      "\n",
      "\n"
     ]
    },
    {
     "data": {
      "application/vnd.jupyter.widget-view+json": {
       "model_id": "2efff1ad98ea40e38bddcebac2e4cecf",
       "version_major": 2,
       "version_minor": 0
      },
      "text/plain": [
       "  0%|          | 0/6 [00:00<?, ?it/s]"
      ]
     },
     "metadata": {},
     "output_type": "display_data"
    },
    {
     "data": {
      "application/vnd.jupyter.widget-view+json": {
       "model_id": "3a3911214d064f859832845c7f8956de",
       "version_major": 2,
       "version_minor": 0
      },
      "text/plain": [
       "  0%|          | 0/2 [00:00<?, ?it/s]"
      ]
     },
     "metadata": {},
     "output_type": "display_data"
    },
    {
     "name": "stdout",
     "output_type": "stream",
     "text": [
      "11\n",
      "['77435', '77029', '76585', '77028', '76475', '76897', '77030']\n",
      "\n",
      "\n"
     ]
    },
    {
     "data": {
      "application/vnd.jupyter.widget-view+json": {
       "model_id": "5908ba02599c46f49a160c89efb89445",
       "version_major": 2,
       "version_minor": 0
      },
      "text/plain": [
       "  0%|          | 0/5 [00:00<?, ?it/s]"
      ]
     },
     "metadata": {},
     "output_type": "display_data"
    },
    {
     "data": {
      "application/vnd.jupyter.widget-view+json": {
       "model_id": "4d425ac2737640f7990b9cd174265287",
       "version_major": 2,
       "version_minor": 0
      },
      "text/plain": [
       "  0%|          | 0/2 [00:00<?, ?it/s]"
      ]
     },
     "metadata": {},
     "output_type": "display_data"
    },
    {
     "name": "stdout",
     "output_type": "stream",
     "text": [
      "12\n",
      "['76640', '76989', '76605', '78567', '77037', '76620', '78461', '78370', '78629', '76424']\n",
      "\n",
      "\n"
     ]
    },
    {
     "data": {
      "application/vnd.jupyter.widget-view+json": {
       "model_id": "8b28dec5931e4c4ea92adf1f8347fac1",
       "version_major": 2,
       "version_minor": 0
      },
      "text/plain": [
       "  0%|          | 0/8 [00:00<?, ?it/s]"
      ]
     },
     "metadata": {},
     "output_type": "display_data"
    },
    {
     "data": {
      "application/vnd.jupyter.widget-view+json": {
       "model_id": "d040947cb3304f72a376c255d69f1ee0",
       "version_major": 2,
       "version_minor": 0
      },
      "text/plain": [
       "  0%|          | 0/2 [00:00<?, ?it/s]"
      ]
     },
     "metadata": {},
     "output_type": "display_data"
    },
    {
     "name": "stdout",
     "output_type": "stream",
     "text": [
      "13\n",
      "['78456', '78371', '78542', '77053', '76679', '76678', '77372', '77113', '78372', '77360']\n",
      "\n",
      "\n"
     ]
    },
    {
     "data": {
      "application/vnd.jupyter.widget-view+json": {
       "model_id": "f05398d071384a67a1b846375118b53e",
       "version_major": 2,
       "version_minor": 0
      },
      "text/plain": [
       "  0%|          | 0/8 [00:00<?, ?it/s]"
      ]
     },
     "metadata": {},
     "output_type": "display_data"
    },
    {
     "data": {
      "application/vnd.jupyter.widget-view+json": {
       "model_id": "04a8bd697c96440790a9024f7cdacd51",
       "version_major": 2,
       "version_minor": 0
      },
      "text/plain": [
       "  0%|          | 0/2 [00:00<?, ?it/s]"
      ]
     },
     "metadata": {},
     "output_type": "display_data"
    },
    {
     "name": "stdout",
     "output_type": "stream",
     "text": [
      "14\n",
      "['78106', '76622', '78602', '77395', '76623', '77230', '76446', '78407', '78406', '78470']\n",
      "\n",
      "\n"
     ]
    },
    {
     "data": {
      "application/vnd.jupyter.widget-view+json": {
       "model_id": "70fb6b7f38f94058962d2043ebd288c0",
       "version_major": 2,
       "version_minor": 0
      },
      "text/plain": [
       "  0%|          | 0/8 [00:00<?, ?it/s]"
      ]
     },
     "metadata": {},
     "output_type": "display_data"
    },
    {
     "data": {
      "application/vnd.jupyter.widget-view+json": {
       "model_id": "808d1c5cadb1464fa43395437865efc1",
       "version_major": 2,
       "version_minor": 0
      },
      "text/plain": [
       "  0%|          | 0/2 [00:00<?, ?it/s]"
      ]
     },
     "metadata": {},
     "output_type": "display_data"
    },
    {
     "name": "stdout",
     "output_type": "stream",
     "text": [
      "15\n",
      "['76569', '76384', '76633', '76318', '77008', '78605', '77021', '76570', '77423']\n",
      "\n",
      "\n"
     ]
    },
    {
     "data": {
      "application/vnd.jupyter.widget-view+json": {
       "model_id": "1421ac48626546d3aaf89ceb64a1faba",
       "version_major": 2,
       "version_minor": 0
      },
      "text/plain": [
       "  0%|          | 0/7 [00:00<?, ?it/s]"
      ]
     },
     "metadata": {},
     "output_type": "display_data"
    },
    {
     "data": {
      "application/vnd.jupyter.widget-view+json": {
       "model_id": "e20f27ff81fd4534bd960d8e32f9875e",
       "version_major": 2,
       "version_minor": 0
      },
      "text/plain": [
       "  0%|          | 0/2 [00:00<?, ?it/s]"
      ]
     },
     "metadata": {},
     "output_type": "display_data"
    },
    {
     "name": "stdout",
     "output_type": "stream",
     "text": [
      "16\n",
      "['76431', '77073', '78540', '76636', '76432', '76634', '76635', '78537', '76445']\n",
      "\n",
      "\n"
     ]
    },
    {
     "data": {
      "application/vnd.jupyter.widget-view+json": {
       "model_id": "6f273e508c33445e842e8cedb3fb5da4",
       "version_major": 2,
       "version_minor": 0
      },
      "text/plain": [
       "  0%|          | 0/7 [00:00<?, ?it/s]"
      ]
     },
     "metadata": {},
     "output_type": "display_data"
    },
    {
     "data": {
      "application/vnd.jupyter.widget-view+json": {
       "model_id": "0ad8a2d342944f049ffe61b6a262d0e3",
       "version_major": 2,
       "version_minor": 0
      },
      "text/plain": [
       "  0%|          | 0/2 [00:00<?, ?it/s]"
      ]
     },
     "metadata": {},
     "output_type": "display_data"
    }
   ],
   "source": [
    "# import os\n",
    "# import random\n",
    "# from sklearn.model_selection import train_test_split\n",
    "\n",
    "# train_patch_ids = []\n",
    "# test_patch_ids = []\n",
    "\n",
    "# for i in range(0,17):\n",
    "\n",
    "#     # List all file IDs in the directory\n",
    "#     ids = os.listdir(base + '/' + str(i) + '/')\n",
    "    \n",
    "#     # Ensure at most 10 slides are selected\n",
    "#     if len(ids) > 10:\n",
    "#         ids = random.sample(ids, 10)\n",
    "        \n",
    "#     print(i)\n",
    "#     print(ids)\n",
    "#     print('\\n')\n",
    "    \n",
    "#     # Split the IDs into training and validation sets\n",
    "#     train_ids, test_ids = train_test_split(ids, test_size=0.2, random_state=42)\n",
    "    \n",
    "#     # print(train_ids)\n",
    "    \n",
    "#     # Assuming patch_selection function selects patches from given ids and class index\n",
    "#     train_patch_id = patch_selection(train_ids, i)\n",
    "#     test_patch_id = patch_selection(test_ids, i)\n",
    "    \n",
    "#     train_patch_ids.extend(train_patch_id)\n",
    "#     test_patch_ids.extend(test_patch_id)\n",
    "    \n",
    "\n",
    "    \n",
    "import os\n",
    "import random\n",
    "from sklearn.model_selection import train_test_split\n",
    "\n",
    "\n",
    "train_patch_ids = []\n",
    "train_labels = []\n",
    "test_patch_ids = []\n",
    "test_labels = []\n",
    "\n",
    "for i in range(0, 17):\n",
    "    # List all file IDs in the directory\n",
    "    ids = os.listdir(base + '/' + str(i) + '/')\n",
    "    \n",
    "    # Ensure at most 10 slides are selected\n",
    "    if len(ids) > 10:\n",
    "        ids = random.sample(ids, 10)\n",
    "        \n",
    "    print(i)\n",
    "    print(ids)\n",
    "    print('\\n')\n",
    "    \n",
    "    # Split the IDs into training and validation sets\n",
    "    train_ids, test_ids = train_test_split(ids, test_size=0.2, random_state=42)\n",
    "    \n",
    "    # Assuming patch_selection function selects patches from given ids and class index\n",
    "    train_patch_id, train_label = patch_selection(train_ids, i)\n",
    "    test_patch_id, test_label = patch_selection(test_ids, i)\n",
    "    \n",
    "    train_patch_ids.extend(train_patch_id)\n",
    "    train_labels.extend(train_label)\n",
    "    test_patch_ids.extend(test_patch_id)\n",
    "    test_labels.extend(test_label)\n",
    "   "
   ]
  },
  {
   "cell_type": "code",
   "execution_count": 9,
   "id": "f9efdd4e-01d4-44c1-b58d-dde4eac05d1c",
   "metadata": {},
   "outputs": [
    {
     "name": "stdout",
     "output_type": "stream",
     "text": [
      "363953\n",
      "89284\n"
     ]
    }
   ],
   "source": [
    "print(len(train_patch_ids))\n",
    "print(len(test_patch_ids))"
   ]
  },
  {
   "cell_type": "code",
   "execution_count": 10,
   "id": "11fdafe6-ad05-436f-9192-00ec93237344",
   "metadata": {
    "id": "11fdafe6-ad05-436f-9192-00ec93237344"
   },
   "outputs": [],
   "source": [
    "# import numpy as np\n",
    "# import keras\n",
    "\n",
    "# class DataGenerator(tf.keras.utils.Sequence):\n",
    "#     'Generates data for Keras'\n",
    "#     def __init__(self, list_IDs, batch_size=128, dim=(512,512), n_channels=3,\n",
    "#                  n_classes=17, shuffle=True):\n",
    "#         'Initialization'\n",
    "#         self.dim = dim\n",
    "#         self.batch_size = batch_size\n",
    "#         # self.labels = labels\n",
    "#         self.list_IDs = list_IDs\n",
    "#         self.n_channels = n_channels\n",
    "#         self.n_classes = n_classes\n",
    "#         self.shuffle = shuffle\n",
    "#         self.on_epoch_end()\n",
    "\n",
    "#     def __len__(self):\n",
    "#         'Denotes the number of batches per epoch'\n",
    "#         return int(np.floor(len(self.list_IDs) / self.batch_size))\n",
    "\n",
    "#     def __getitem__(self, index):\n",
    "#         'Generate one batch of data'\n",
    "#         # Generate indexes of the batch\n",
    "#         indexes = self.indexes[index*self.batch_size:(index+1)*self.batch_size]\n",
    "\n",
    "#         # Find list of IDs\n",
    "#         list_IDs_temp = [self.list_IDs[k] for k in indexes]\n",
    "\n",
    "#         # Generate data\n",
    "#         X, y = self.__data_generation(list_IDs_temp)\n",
    "\n",
    "#         return X, y\n",
    "\n",
    "#     def on_epoch_end(self):\n",
    "#         'Updates indexes after each epoch'\n",
    "#         self.indexes = np.arange(len(self.list_IDs))\n",
    "#         if self.shuffle == True:\n",
    "#             np.random.shuffle(self.indexes)\n",
    "\n",
    "#     def __data_generation(self, list_IDs_temp):\n",
    "#         'Generates data containing batch_size samples' # X : (n_samples, *dim, n_channels)\n",
    "#         # Initialization\n",
    "#         X = np.empty((self.batch_size, *self.dim, self.n_channels))\n",
    "#         y = np.empty((self.batch_size), dtype=int)\n",
    "\n",
    "#         # print(list_IDs_temp)\n",
    "\n",
    "#         # Generate data\n",
    "#         for i, ID in enumerate(list_IDs_temp):\n",
    "#             # print(i)\n",
    "#             # Store sample\n",
    "#             X[i,] = IMAGE.img_to_array(IMAGE.load_img(ID, target_size=(512, 512)))\n",
    "\n",
    "#             # Store class\n",
    "#             y[i] = int(ID[-5])\n",
    "\n",
    "#         return X, to_categorical(y, num_classes=self.n_classes)"
   ]
  },
  {
   "cell_type": "code",
   "execution_count": 11,
   "id": "4228078d-32e0-4f2c-972f-e01b5b4f2ab8",
   "metadata": {},
   "outputs": [],
   "source": [
    "import numpy as np\n",
    "import tensorflow as tf\n",
    "from tensorflow.keras.utils import to_categorical\n",
    "from tensorflow.keras.preprocessing import image as IMAGE\n",
    "\n",
    "class DataGenerator(tf.keras.utils.Sequence):\n",
    "    'Generates data for Keras'\n",
    "    def __init__(self, list_IDs, labels, batch_size=128, dim=(512, 512), n_channels=3,\n",
    "                 n_classes=17, shuffle=True):\n",
    "        'Initialization'\n",
    "        self.dim = dim\n",
    "        self.batch_size = batch_size\n",
    "        self.labels = labels\n",
    "        self.list_IDs = list_IDs\n",
    "        self.n_channels = n_channels\n",
    "        self.n_classes = n_classes\n",
    "        self.shuffle = shuffle\n",
    "        self.on_epoch_end()\n",
    "\n",
    "    def __len__(self):\n",
    "        'Denotes the number of batches per epoch'\n",
    "        return int(np.floor(len(self.list_IDs) / self.batch_size))\n",
    "\n",
    "    def __getitem__(self, index):\n",
    "        'Generate one batch of data'\n",
    "        # Generate indexes of the batch\n",
    "        indexes = self.indexes[index*self.batch_size:(index+1)*self.batch_size]\n",
    "\n",
    "        # Find list of IDs\n",
    "        list_IDs_temp = [self.list_IDs[k] for k in indexes]\n",
    "        labels_temp = [self.labels[k] for k in indexes]\n",
    "\n",
    "        # Generate data\n",
    "        X, y = self.__data_generation(list_IDs_temp, labels_temp)\n",
    "\n",
    "        return X, y\n",
    "\n",
    "    def on_epoch_end(self):\n",
    "        'Updates indexes after each epoch'\n",
    "        self.indexes = np.arange(len(self.list_IDs))\n",
    "        if self.shuffle == True:\n",
    "            np.random.shuffle(self.indexes)\n",
    "\n",
    "    def __data_generation(self, list_IDs_temp, labels_temp):\n",
    "        'Generates data containing batch_size samples'  # X : (n_samples, *dim, n_channels)\n",
    "        # Initialization\n",
    "        X = np.empty((self.batch_size, *self.dim, self.n_channels))\n",
    "        y = np.empty((self.batch_size), dtype=int)\n",
    "\n",
    "        # Generate data\n",
    "        for i, (ID, label) in enumerate(zip(list_IDs_temp, labels_temp)):\n",
    "            # Store sample\n",
    "            X[i,] = IMAGE.img_to_array(IMAGE.load_img(ID, target_size=(512, 512)))\n",
    "\n",
    "            # Store class\n",
    "            y[i] = label\n",
    "\n",
    "        return X, to_categorical(y, num_classes=self.n_classes)\n"
   ]
  },
  {
   "cell_type": "code",
   "execution_count": 12,
   "id": "4f36801e-bbb6-4088-a0d0-75a05be58f3d",
   "metadata": {},
   "outputs": [
    {
     "data": {
      "image/png": "[encoded data removed]",
      "text/plain": [
       "<Figure size 1200x600 with 2 Axes>"
      ]
     },
     "metadata": {},
     "output_type": "display_data"
    },
    {
     "name": "stdout",
     "output_type": "stream",
     "text": [
      "Train class distribution: [15067. 30289. 22370. 36547. 31476. 18125. 29083.  5451. 16045. 30794.\n",
      " 13524. 15624. 22535. 17112. 18920. 21581. 19410.]\n",
      "Test class distribution: [2104. 5437. 7681. 9721. 7362. 5517. 5678.  329. 5600. 9966. 5079. 4932.\n",
      " 4126. 1772. 2413. 6536. 5031.]\n"
     ]
    }
   ],
   "source": [
    "import os\n",
    "import numpy as np\n",
    "import matplotlib.pyplot as plt\n",
    "\n",
    "def get_class_distribution_from_filenames(filenames, custom_classes):\n",
    "    class_counts = np.zeros(len(custom_classes))\n",
    "    class_map = {cls: idx for idx, cls in enumerate(custom_classes)}\n",
    "    \n",
    "    for filename in filenames:\n",
    "        # Extract class label from the directory name\n",
    "        class_label = int(os.path.basename(os.path.dirname(os.path.dirname(filename))))\n",
    "        if class_label in class_map:\n",
    "            class_counts[class_map[class_label]] += 1\n",
    "    \n",
    "    return class_counts\n",
    "\n",
    "# Define your custom range of class labels\n",
    "custom_range = list(range(0, 17))\n",
    "\n",
    "# Assuming train_patch_ids and test_patch_ids are lists of image paths for training and testing\n",
    "train_class_distribution = get_class_distribution_from_filenames(train_patch_ids, custom_range)\n",
    "test_class_distribution = get_class_distribution_from_filenames(test_patch_ids, custom_range)\n",
    "\n",
    "# Plotting class distributions\n",
    "classes = np.array(custom_range)\n",
    "\n",
    "plt.figure(figsize=(12, 6))\n",
    "plt.subplot(1, 2, 1)\n",
    "plt.bar(classes, train_class_distribution)\n",
    "plt.title('Train Class Distribution')\n",
    "plt.xlabel('Class')\n",
    "plt.ylabel('Count')\n",
    "\n",
    "plt.subplot(1, 2, 2)\n",
    "plt.bar(classes, test_class_distribution)\n",
    "plt.title('Test Class Distribution')\n",
    "plt.xlabel('Class')\n",
    "plt.ylabel('Count')\n",
    "\n",
    "plt.tight_layout()\n",
    "plt.show()\n",
    "\n",
    "# Print distributions as arrays\n",
    "print(\"Train class distribution:\", train_class_distribution)\n",
    "print(\"Test class distribution:\", test_class_distribution)\n"
   ]
  },
  {
   "cell_type": "code",
   "execution_count": 13,
   "id": "62e7e87d-0b76-46bd-a535-742cbb09df78",
   "metadata": {
    "id": "62e7e87d-0b76-46bd-a535-742cbb09df78"
   },
   "outputs": [],
   "source": [
    "train_IDs, val_IDs, train_labels, val_labels = train_test_split(train_patch_ids, train_labels, test_size=0.2, random_state=42)"
   ]
  },
  {
   "cell_type": "code",
   "execution_count": 14,
   "id": "3f652cf1-acbb-49de-9746-4148709d8b4a",
   "metadata": {
    "id": "3f652cf1-acbb-49de-9746-4148709d8b4a",
    "outputId": "671e4416-aa3e-4a33-af16-727042d1555d"
   },
   "outputs": [
    {
     "data": {
      "text/plain": [
       "0"
      ]
     },
     "execution_count": 14,
     "metadata": {},
     "output_type": "execute_result"
    }
   ],
   "source": [
    "import gc\n",
    "gc.collect()\n",
    "gc.collect()\n",
    "gc.collect()\n",
    "gc.collect()"
   ]
  },
  {
   "cell_type": "code",
   "execution_count": 15,
   "id": "5b9c9f8a-184c-402d-b0ad-383559d1d4df",
   "metadata": {
    "id": "5b9c9f8a-184c-402d-b0ad-383559d1d4df"
   },
   "outputs": [],
   "source": [
    "# y = np.array(labels_1)\n",
    "# x = np.stack(images_1)/255"
   ]
  },
  {
   "cell_type": "code",
   "execution_count": 16,
   "id": "f8fb69dc-ec14-4cfa-8731-92f3b88ee9b9",
   "metadata": {
    "id": "f8fb69dc-ec14-4cfa-8731-92f3b88ee9b9"
   },
   "outputs": [],
   "source": [
    "\n",
    "# x_train_1,x_test,y_train_1,y_test = train_test_split(x, y, random_state=0, test_size=0.2)\n",
    "# x_train,x_val,y_train,y_val = train_test_split(x_train_1, y_train_1, random_state=0, test_size=0.2)\n",
    "# print(x_train.shape, x_test.shape, y_train.shape, y_test.shape)\n",
    "\n",
    "# y_train = to_categorical(y_train)\n",
    "# y_test = to_categorical(y_test)\n",
    "# y_val = to_categorical(y_val)\n",
    "\n",
    "# print(y_train.shape)"
   ]
  },
  {
   "cell_type": "code",
   "execution_count": 17,
   "id": "7a0ed51f-525f-4574-ba4f-3e9549809a5a",
   "metadata": {
    "id": "7a0ed51f-525f-4574-ba4f-3e9549809a5a"
   },
   "outputs": [],
   "source": [
    "def freezing_layers(model_name):\n",
    "    for layer in model_name.layers:\n",
    "      layer.trainable = False\n",
    "def trainable_layers(model_name):\n",
    "    for layer in model_name.layers:\n",
    "      layer.trainable = True"
   ]
  },
  {
   "cell_type": "code",
   "execution_count": 18,
   "id": "a17f6356-9e5f-4abc-ad79-b141c773f2f1",
   "metadata": {
    "id": "a17f6356-9e5f-4abc-ad79-b141c773f2f1"
   },
   "outputs": [],
   "source": [
    "### Data\n",
    "datagen = tf.keras.preprocessing.image.ImageDataGenerator(\n",
    "    featurewise_center=False,  # set input mean to 0 over the dataset\n",
    "    samplewise_center=False,  # set each sample mean to 0\n",
    "    featurewise_std_normalization=False,  # divide inputs by std of the dataset\n",
    "    samplewise_std_normalization=False,  # divide each input by its std\n",
    "    zca_whitening=False,  # apply ZCA whitening\n",
    "    rotation_range=20,  # randomly rotate images in the range (degrees, 0 to 180)\n",
    "    width_shift_range=0.2,  # randomly shift images horizontally (fraction of total width)\n",
    "    height_shift_range=0.2,  # randomly shift images vertically (fraction of total height)\n",
    "    horizontal_flip=True,  # randomly flip images\n",
    "    vertical_flip=True)  # randomly flip images\n",
    "\n"
   ]
  },
  {
   "cell_type": "code",
   "execution_count": 19,
   "id": "4692a023-ac26-4075-b0f5-34aaed82b8bc",
   "metadata": {
    "id": "4692a023-ac26-4075-b0f5-34aaed82b8bc",
    "outputId": "64fe208e-6f47-449c-819f-19b3e80c2c72"
   },
   "outputs": [],
   "source": [
    "\n",
    "# Initialize the DataGenerators\n",
    "training_generator = DataGenerator(train_IDs, train_labels, batch_size=128, n_classes=17, shuffle=True)\n",
    "valid_generator = DataGenerator(val_IDs, val_labels, batch_size=128, n_classes=17, shuffle=False)\n",
    "test_generator = DataGenerator(test_patch_ids, test_labels, batch_size=128, n_classes=17, shuffle=False)\n"
   ]
  },
  {
   "cell_type": "code",
   "execution_count": 20,
   "id": "039806b2-182c-48f3-bf90-776456db1579",
   "metadata": {
    "id": "039806b2-182c-48f3-bf90-776456db1579",
    "outputId": "474f2ed1-4679-445f-a6ca-e62d656041a5"
   },
   "outputs": [
    {
     "name": "stdout",
     "output_type": "stream",
     "text": [
      "Epoch 1/2\n",
      "  27/2274 [..............................] - ETA: 9:24:15 - loss: 17.1463 - accuracy: 0.5136"
     ]
    },
    {
     "ename": "KeyboardInterrupt",
     "evalue": "",
     "output_type": "error",
     "traceback": [
      "\u001b[0;31m---------------------------------------------------------------------------\u001b[0m",
      "\u001b[0;31mKeyboardInterrupt\u001b[0m                         Traceback (most recent call last)",
      "Cell \u001b[0;32mIn[20], line 22\u001b[0m\n\u001b[1;32m     18\u001b[0m model\u001b[38;5;241m.\u001b[39mcompile(optimizer\u001b[38;5;241m=\u001b[39m\u001b[38;5;124m'\u001b[39m\u001b[38;5;124madam\u001b[39m\u001b[38;5;124m'\u001b[39m,loss\u001b[38;5;241m=\u001b[39m\u001b[38;5;124m'\u001b[39m\u001b[38;5;124mcategorical_crossentropy\u001b[39m\u001b[38;5;124m'\u001b[39m,metrics\u001b[38;5;241m=\u001b[39m[\u001b[38;5;124m'\u001b[39m\u001b[38;5;124maccuracy\u001b[39m\u001b[38;5;124m'\u001b[39m])\n\u001b[1;32m     20\u001b[0m \u001b[38;5;66;03m# history = ResNet50_model.fit(x_train, y_train, validation_data = (x_val, y_val), epochs = 20, verbose = 2, batch_size = 4)\u001b[39;00m\n\u001b[0;32m---> 22\u001b[0m history \u001b[38;5;241m=\u001b[39m  \u001b[43mmodel\u001b[49m\u001b[38;5;241;43m.\u001b[39;49m\u001b[43mfit\u001b[49m\u001b[43m(\u001b[49m\u001b[43mtraining_generator\u001b[49m\u001b[43m,\u001b[49m\n\u001b[1;32m     23\u001b[0m \u001b[43m                    \u001b[49m\u001b[43mepochs\u001b[49m\u001b[38;5;241;43m=\u001b[39;49m\u001b[38;5;241;43m2\u001b[39;49m\u001b[43m,\u001b[49m\n\u001b[1;32m     24\u001b[0m \u001b[43m                    \u001b[49m\u001b[38;5;66;43;03m# steps_per_epoch=32,\u001b[39;49;00m\n\u001b[1;32m     25\u001b[0m \u001b[43m                    \u001b[49m\u001b[38;5;66;43;03m# callbacks= callbacks,\u001b[39;49;00m\n\u001b[1;32m     26\u001b[0m \u001b[43m                    \u001b[49m\u001b[43mvalidation_data\u001b[49m\u001b[43m \u001b[49m\u001b[38;5;241;43m=\u001b[39;49m\u001b[43m \u001b[49m\u001b[43mvalid_generator\u001b[49m\n\u001b[1;32m     27\u001b[0m \u001b[43m                    \u001b[49m\u001b[43m)\u001b[49m\n\u001b[1;32m     29\u001b[0m \u001b[38;5;66;03m#ResNet50_model.evaluate(x_test,y_test)\u001b[39;00m\n",
      "File \u001b[0;32m/opt/conda/envs/tensorflow/lib/python3.10/site-packages/keras/utils/traceback_utils.py:65\u001b[0m, in \u001b[0;36mfilter_traceback.<locals>.error_handler\u001b[0;34m(*args, **kwargs)\u001b[0m\n\u001b[1;32m     63\u001b[0m filtered_tb \u001b[38;5;241m=\u001b[39m \u001b[38;5;28;01mNone\u001b[39;00m\n\u001b[1;32m     64\u001b[0m \u001b[38;5;28;01mtry\u001b[39;00m:\n\u001b[0;32m---> 65\u001b[0m     \u001b[38;5;28;01mreturn\u001b[39;00m \u001b[43mfn\u001b[49m\u001b[43m(\u001b[49m\u001b[38;5;241;43m*\u001b[39;49m\u001b[43margs\u001b[49m\u001b[43m,\u001b[49m\u001b[43m \u001b[49m\u001b[38;5;241;43m*\u001b[39;49m\u001b[38;5;241;43m*\u001b[39;49m\u001b[43mkwargs\u001b[49m\u001b[43m)\u001b[49m\n\u001b[1;32m     66\u001b[0m \u001b[38;5;28;01mexcept\u001b[39;00m \u001b[38;5;167;01mException\u001b[39;00m \u001b[38;5;28;01mas\u001b[39;00m e:\n\u001b[1;32m     67\u001b[0m     filtered_tb \u001b[38;5;241m=\u001b[39m _process_traceback_frames(e\u001b[38;5;241m.\u001b[39m__traceback__)\n",
      "File \u001b[0;32m/opt/conda/envs/tensorflow/lib/python3.10/site-packages/keras/engine/training.py:1650\u001b[0m, in \u001b[0;36mModel.fit\u001b[0;34m(self, x, y, batch_size, epochs, verbose, callbacks, validation_split, validation_data, shuffle, class_weight, sample_weight, initial_epoch, steps_per_epoch, validation_steps, validation_batch_size, validation_freq, max_queue_size, workers, use_multiprocessing)\u001b[0m\n\u001b[1;32m   1642\u001b[0m \u001b[38;5;28;01mwith\u001b[39;00m tf\u001b[38;5;241m.\u001b[39mprofiler\u001b[38;5;241m.\u001b[39mexperimental\u001b[38;5;241m.\u001b[39mTrace(\n\u001b[1;32m   1643\u001b[0m     \u001b[38;5;124m\"\u001b[39m\u001b[38;5;124mtrain\u001b[39m\u001b[38;5;124m\"\u001b[39m,\n\u001b[1;32m   1644\u001b[0m     epoch_num\u001b[38;5;241m=\u001b[39mepoch,\n\u001b[0;32m   (...)\u001b[0m\n\u001b[1;32m   1647\u001b[0m     _r\u001b[38;5;241m=\u001b[39m\u001b[38;5;241m1\u001b[39m,\n\u001b[1;32m   1648\u001b[0m ):\n\u001b[1;32m   1649\u001b[0m     callbacks\u001b[38;5;241m.\u001b[39mon_train_batch_begin(step)\n\u001b[0;32m-> 1650\u001b[0m     tmp_logs \u001b[38;5;241m=\u001b[39m \u001b[38;5;28;43mself\u001b[39;49m\u001b[38;5;241;43m.\u001b[39;49m\u001b[43mtrain_function\u001b[49m\u001b[43m(\u001b[49m\u001b[43miterator\u001b[49m\u001b[43m)\u001b[49m\n\u001b[1;32m   1651\u001b[0m     \u001b[38;5;28;01mif\u001b[39;00m data_handler\u001b[38;5;241m.\u001b[39mshould_sync:\n\u001b[1;32m   1652\u001b[0m         context\u001b[38;5;241m.\u001b[39masync_wait()\n",
      "File \u001b[0;32m/opt/conda/envs/tensorflow/lib/python3.10/site-packages/tensorflow/python/util/traceback_utils.py:150\u001b[0m, in \u001b[0;36mfilter_traceback.<locals>.error_handler\u001b[0;34m(*args, **kwargs)\u001b[0m\n\u001b[1;32m    148\u001b[0m filtered_tb \u001b[38;5;241m=\u001b[39m \u001b[38;5;28;01mNone\u001b[39;00m\n\u001b[1;32m    149\u001b[0m \u001b[38;5;28;01mtry\u001b[39;00m:\n\u001b[0;32m--> 150\u001b[0m   \u001b[38;5;28;01mreturn\u001b[39;00m \u001b[43mfn\u001b[49m\u001b[43m(\u001b[49m\u001b[38;5;241;43m*\u001b[39;49m\u001b[43margs\u001b[49m\u001b[43m,\u001b[49m\u001b[43m \u001b[49m\u001b[38;5;241;43m*\u001b[39;49m\u001b[38;5;241;43m*\u001b[39;49m\u001b[43mkwargs\u001b[49m\u001b[43m)\u001b[49m\n\u001b[1;32m    151\u001b[0m \u001b[38;5;28;01mexcept\u001b[39;00m \u001b[38;5;167;01mException\u001b[39;00m \u001b[38;5;28;01mas\u001b[39;00m e:\n\u001b[1;32m    152\u001b[0m   filtered_tb \u001b[38;5;241m=\u001b[39m _process_traceback_frames(e\u001b[38;5;241m.\u001b[39m__traceback__)\n",
      "File \u001b[0;32m/opt/conda/envs/tensorflow/lib/python3.10/site-packages/tensorflow/python/eager/polymorphic_function/polymorphic_function.py:880\u001b[0m, in \u001b[0;36mFunction.__call__\u001b[0;34m(self, *args, **kwds)\u001b[0m\n\u001b[1;32m    877\u001b[0m compiler \u001b[38;5;241m=\u001b[39m \u001b[38;5;124m\"\u001b[39m\u001b[38;5;124mxla\u001b[39m\u001b[38;5;124m\"\u001b[39m \u001b[38;5;28;01mif\u001b[39;00m \u001b[38;5;28mself\u001b[39m\u001b[38;5;241m.\u001b[39m_jit_compile \u001b[38;5;28;01melse\u001b[39;00m \u001b[38;5;124m\"\u001b[39m\u001b[38;5;124mnonXla\u001b[39m\u001b[38;5;124m\"\u001b[39m\n\u001b[1;32m    879\u001b[0m \u001b[38;5;28;01mwith\u001b[39;00m OptionalXlaContext(\u001b[38;5;28mself\u001b[39m\u001b[38;5;241m.\u001b[39m_jit_compile):\n\u001b[0;32m--> 880\u001b[0m   result \u001b[38;5;241m=\u001b[39m \u001b[38;5;28;43mself\u001b[39;49m\u001b[38;5;241;43m.\u001b[39;49m\u001b[43m_call\u001b[49m\u001b[43m(\u001b[49m\u001b[38;5;241;43m*\u001b[39;49m\u001b[43margs\u001b[49m\u001b[43m,\u001b[49m\u001b[43m \u001b[49m\u001b[38;5;241;43m*\u001b[39;49m\u001b[38;5;241;43m*\u001b[39;49m\u001b[43mkwds\u001b[49m\u001b[43m)\u001b[49m\n\u001b[1;32m    882\u001b[0m new_tracing_count \u001b[38;5;241m=\u001b[39m \u001b[38;5;28mself\u001b[39m\u001b[38;5;241m.\u001b[39mexperimental_get_tracing_count()\n\u001b[1;32m    883\u001b[0m without_tracing \u001b[38;5;241m=\u001b[39m (tracing_count \u001b[38;5;241m==\u001b[39m new_tracing_count)\n",
      "File \u001b[0;32m/opt/conda/envs/tensorflow/lib/python3.10/site-packages/tensorflow/python/eager/polymorphic_function/polymorphic_function.py:912\u001b[0m, in \u001b[0;36mFunction._call\u001b[0;34m(self, *args, **kwds)\u001b[0m\n\u001b[1;32m    909\u001b[0m   \u001b[38;5;28mself\u001b[39m\u001b[38;5;241m.\u001b[39m_lock\u001b[38;5;241m.\u001b[39mrelease()\n\u001b[1;32m    910\u001b[0m   \u001b[38;5;66;03m# In this case we have created variables on the first call, so we run the\u001b[39;00m\n\u001b[1;32m    911\u001b[0m   \u001b[38;5;66;03m# defunned version which is guaranteed to never create variables.\u001b[39;00m\n\u001b[0;32m--> 912\u001b[0m   \u001b[38;5;28;01mreturn\u001b[39;00m \u001b[38;5;28;43mself\u001b[39;49m\u001b[38;5;241;43m.\u001b[39;49m\u001b[43m_no_variable_creation_fn\u001b[49m\u001b[43m(\u001b[49m\u001b[38;5;241;43m*\u001b[39;49m\u001b[43margs\u001b[49m\u001b[43m,\u001b[49m\u001b[43m \u001b[49m\u001b[38;5;241;43m*\u001b[39;49m\u001b[38;5;241;43m*\u001b[39;49m\u001b[43mkwds\u001b[49m\u001b[43m)\u001b[49m  \u001b[38;5;66;03m# pylint: disable=not-callable\u001b[39;00m\n\u001b[1;32m    913\u001b[0m \u001b[38;5;28;01melif\u001b[39;00m \u001b[38;5;28mself\u001b[39m\u001b[38;5;241m.\u001b[39m_variable_creation_fn \u001b[38;5;129;01mis\u001b[39;00m \u001b[38;5;129;01mnot\u001b[39;00m \u001b[38;5;28;01mNone\u001b[39;00m:\n\u001b[1;32m    914\u001b[0m   \u001b[38;5;66;03m# Release the lock early so that multiple threads can perform the call\u001b[39;00m\n\u001b[1;32m    915\u001b[0m   \u001b[38;5;66;03m# in parallel.\u001b[39;00m\n\u001b[1;32m    916\u001b[0m   \u001b[38;5;28mself\u001b[39m\u001b[38;5;241m.\u001b[39m_lock\u001b[38;5;241m.\u001b[39mrelease()\n",
      "File \u001b[0;32m/opt/conda/envs/tensorflow/lib/python3.10/site-packages/tensorflow/python/eager/polymorphic_function/tracing_compiler.py:134\u001b[0m, in \u001b[0;36mTracingCompiler.__call__\u001b[0;34m(self, *args, **kwargs)\u001b[0m\n\u001b[1;32m    131\u001b[0m \u001b[38;5;28;01mwith\u001b[39;00m \u001b[38;5;28mself\u001b[39m\u001b[38;5;241m.\u001b[39m_lock:\n\u001b[1;32m    132\u001b[0m   (concrete_function,\n\u001b[1;32m    133\u001b[0m    filtered_flat_args) \u001b[38;5;241m=\u001b[39m \u001b[38;5;28mself\u001b[39m\u001b[38;5;241m.\u001b[39m_maybe_define_function(args, kwargs)\n\u001b[0;32m--> 134\u001b[0m \u001b[38;5;28;01mreturn\u001b[39;00m \u001b[43mconcrete_function\u001b[49m\u001b[38;5;241;43m.\u001b[39;49m\u001b[43m_call_flat\u001b[49m\u001b[43m(\u001b[49m\n\u001b[1;32m    135\u001b[0m \u001b[43m    \u001b[49m\u001b[43mfiltered_flat_args\u001b[49m\u001b[43m,\u001b[49m\u001b[43m \u001b[49m\u001b[43mcaptured_inputs\u001b[49m\u001b[38;5;241;43m=\u001b[39;49m\u001b[43mconcrete_function\u001b[49m\u001b[38;5;241;43m.\u001b[39;49m\u001b[43mcaptured_inputs\u001b[49m\u001b[43m)\u001b[49m\n",
      "File \u001b[0;32m/opt/conda/envs/tensorflow/lib/python3.10/site-packages/tensorflow/python/eager/polymorphic_function/monomorphic_function.py:1745\u001b[0m, in \u001b[0;36mConcreteFunction._call_flat\u001b[0;34m(self, args, captured_inputs, cancellation_manager)\u001b[0m\n\u001b[1;32m   1741\u001b[0m possible_gradient_type \u001b[38;5;241m=\u001b[39m gradients_util\u001b[38;5;241m.\u001b[39mPossibleTapeGradientTypes(args)\n\u001b[1;32m   1742\u001b[0m \u001b[38;5;28;01mif\u001b[39;00m (possible_gradient_type \u001b[38;5;241m==\u001b[39m gradients_util\u001b[38;5;241m.\u001b[39mPOSSIBLE_GRADIENT_TYPES_NONE\n\u001b[1;32m   1743\u001b[0m     \u001b[38;5;129;01mand\u001b[39;00m executing_eagerly):\n\u001b[1;32m   1744\u001b[0m   \u001b[38;5;66;03m# No tape is watching; skip to running the function.\u001b[39;00m\n\u001b[0;32m-> 1745\u001b[0m   \u001b[38;5;28;01mreturn\u001b[39;00m \u001b[38;5;28mself\u001b[39m\u001b[38;5;241m.\u001b[39m_build_call_outputs(\u001b[38;5;28;43mself\u001b[39;49m\u001b[38;5;241;43m.\u001b[39;49m\u001b[43m_inference_function\u001b[49m\u001b[38;5;241;43m.\u001b[39;49m\u001b[43mcall\u001b[49m\u001b[43m(\u001b[49m\n\u001b[1;32m   1746\u001b[0m \u001b[43m      \u001b[49m\u001b[43mctx\u001b[49m\u001b[43m,\u001b[49m\u001b[43m \u001b[49m\u001b[43margs\u001b[49m\u001b[43m,\u001b[49m\u001b[43m \u001b[49m\u001b[43mcancellation_manager\u001b[49m\u001b[38;5;241;43m=\u001b[39;49m\u001b[43mcancellation_manager\u001b[49m\u001b[43m)\u001b[49m)\n\u001b[1;32m   1747\u001b[0m forward_backward \u001b[38;5;241m=\u001b[39m \u001b[38;5;28mself\u001b[39m\u001b[38;5;241m.\u001b[39m_select_forward_and_backward_functions(\n\u001b[1;32m   1748\u001b[0m     args,\n\u001b[1;32m   1749\u001b[0m     possible_gradient_type,\n\u001b[1;32m   1750\u001b[0m     executing_eagerly)\n\u001b[1;32m   1751\u001b[0m forward_function, args_with_tangents \u001b[38;5;241m=\u001b[39m forward_backward\u001b[38;5;241m.\u001b[39mforward()\n",
      "File \u001b[0;32m/opt/conda/envs/tensorflow/lib/python3.10/site-packages/tensorflow/python/eager/polymorphic_function/monomorphic_function.py:378\u001b[0m, in \u001b[0;36m_EagerDefinedFunction.call\u001b[0;34m(self, ctx, args, cancellation_manager)\u001b[0m\n\u001b[1;32m    376\u001b[0m \u001b[38;5;28;01mwith\u001b[39;00m _InterpolateFunctionError(\u001b[38;5;28mself\u001b[39m):\n\u001b[1;32m    377\u001b[0m   \u001b[38;5;28;01mif\u001b[39;00m cancellation_manager \u001b[38;5;129;01mis\u001b[39;00m \u001b[38;5;28;01mNone\u001b[39;00m:\n\u001b[0;32m--> 378\u001b[0m     outputs \u001b[38;5;241m=\u001b[39m \u001b[43mexecute\u001b[49m\u001b[38;5;241;43m.\u001b[39;49m\u001b[43mexecute\u001b[49m\u001b[43m(\u001b[49m\n\u001b[1;32m    379\u001b[0m \u001b[43m        \u001b[49m\u001b[38;5;28;43mstr\u001b[39;49m\u001b[43m(\u001b[49m\u001b[38;5;28;43mself\u001b[39;49m\u001b[38;5;241;43m.\u001b[39;49m\u001b[43msignature\u001b[49m\u001b[38;5;241;43m.\u001b[39;49m\u001b[43mname\u001b[49m\u001b[43m)\u001b[49m\u001b[43m,\u001b[49m\n\u001b[1;32m    380\u001b[0m \u001b[43m        \u001b[49m\u001b[43mnum_outputs\u001b[49m\u001b[38;5;241;43m=\u001b[39;49m\u001b[38;5;28;43mself\u001b[39;49m\u001b[38;5;241;43m.\u001b[39;49m\u001b[43m_num_outputs\u001b[49m\u001b[43m,\u001b[49m\n\u001b[1;32m    381\u001b[0m \u001b[43m        \u001b[49m\u001b[43minputs\u001b[49m\u001b[38;5;241;43m=\u001b[39;49m\u001b[43margs\u001b[49m\u001b[43m,\u001b[49m\n\u001b[1;32m    382\u001b[0m \u001b[43m        \u001b[49m\u001b[43mattrs\u001b[49m\u001b[38;5;241;43m=\u001b[39;49m\u001b[43mattrs\u001b[49m\u001b[43m,\u001b[49m\n\u001b[1;32m    383\u001b[0m \u001b[43m        \u001b[49m\u001b[43mctx\u001b[49m\u001b[38;5;241;43m=\u001b[39;49m\u001b[43mctx\u001b[49m\u001b[43m)\u001b[49m\n\u001b[1;32m    384\u001b[0m   \u001b[38;5;28;01melse\u001b[39;00m:\n\u001b[1;32m    385\u001b[0m     outputs \u001b[38;5;241m=\u001b[39m execute\u001b[38;5;241m.\u001b[39mexecute_with_cancellation(\n\u001b[1;32m    386\u001b[0m         \u001b[38;5;28mstr\u001b[39m(\u001b[38;5;28mself\u001b[39m\u001b[38;5;241m.\u001b[39msignature\u001b[38;5;241m.\u001b[39mname),\n\u001b[1;32m    387\u001b[0m         num_outputs\u001b[38;5;241m=\u001b[39m\u001b[38;5;28mself\u001b[39m\u001b[38;5;241m.\u001b[39m_num_outputs,\n\u001b[0;32m   (...)\u001b[0m\n\u001b[1;32m    390\u001b[0m         ctx\u001b[38;5;241m=\u001b[39mctx,\n\u001b[1;32m    391\u001b[0m         cancellation_manager\u001b[38;5;241m=\u001b[39mcancellation_manager)\n",
      "File \u001b[0;32m/opt/conda/envs/tensorflow/lib/python3.10/site-packages/tensorflow/python/eager/execute.py:52\u001b[0m, in \u001b[0;36mquick_execute\u001b[0;34m(op_name, num_outputs, inputs, attrs, ctx, name)\u001b[0m\n\u001b[1;32m     50\u001b[0m \u001b[38;5;28;01mtry\u001b[39;00m:\n\u001b[1;32m     51\u001b[0m   ctx\u001b[38;5;241m.\u001b[39mensure_initialized()\n\u001b[0;32m---> 52\u001b[0m   tensors \u001b[38;5;241m=\u001b[39m \u001b[43mpywrap_tfe\u001b[49m\u001b[38;5;241;43m.\u001b[39;49m\u001b[43mTFE_Py_Execute\u001b[49m\u001b[43m(\u001b[49m\u001b[43mctx\u001b[49m\u001b[38;5;241;43m.\u001b[39;49m\u001b[43m_handle\u001b[49m\u001b[43m,\u001b[49m\u001b[43m \u001b[49m\u001b[43mdevice_name\u001b[49m\u001b[43m,\u001b[49m\u001b[43m \u001b[49m\u001b[43mop_name\u001b[49m\u001b[43m,\u001b[49m\n\u001b[1;32m     53\u001b[0m \u001b[43m                                      \u001b[49m\u001b[43minputs\u001b[49m\u001b[43m,\u001b[49m\u001b[43m \u001b[49m\u001b[43mattrs\u001b[49m\u001b[43m,\u001b[49m\u001b[43m \u001b[49m\u001b[43mnum_outputs\u001b[49m\u001b[43m)\u001b[49m\n\u001b[1;32m     54\u001b[0m \u001b[38;5;28;01mexcept\u001b[39;00m core\u001b[38;5;241m.\u001b[39m_NotOkStatusException \u001b[38;5;28;01mas\u001b[39;00m e:\n\u001b[1;32m     55\u001b[0m   \u001b[38;5;28;01mif\u001b[39;00m name \u001b[38;5;129;01mis\u001b[39;00m \u001b[38;5;129;01mnot\u001b[39;00m \u001b[38;5;28;01mNone\u001b[39;00m:\n",
      "\u001b[0;31mKeyboardInterrupt\u001b[0m: "
     ]
    }
   ],
   "source": [
    "## ResNet-50 Model ###\n",
    "\n",
    "base_model =  EfficientNetB0(input_shape=(512,512,3),weights='imagenet', include_top=False)\n",
    "#ResNet50_base_model.summary()\n",
    "\n",
    "#freezing layers\n",
    "freezing_layers(base_model)\n",
    "\n",
    "model = Sequential()\n",
    "model.add(base_model)\n",
    "model.add(layers.Flatten())\n",
    "model.add(layers.Dense(2048, activation='relu', kernel_regularizer=l2(0.001)))  # L2 regularization\n",
    "model.add(BatchNormalization())\n",
    "model.add(Dropout(0.5))\n",
    "model.add(layers.Dense(17, activation ='softmax'))\n",
    "#ResNet50_model.summary()\n",
    "\n",
    "model.compile(optimizer='adam',loss='categorical_crossentropy',metrics=['accuracy'])\n",
    "\n",
    "# history = ResNet50_model.fit(x_train, y_train, validation_data = (x_val, y_val), epochs = 20, verbose = 2, batch_size = 4)\n",
    "\n",
    "history =  model.fit(training_generator,\n",
    "                    epochs=2,\n",
    "                    # steps_per_epoch=32,\n",
    "                    # callbacks= callbacks,\n",
    "                    validation_data = valid_generator\n",
    "                    )\n",
    "\n",
    "#ResNet50_model.evaluate(x_test,y_test)"
   ]
  },
  {
   "cell_type": "code",
   "execution_count": null,
   "id": "20aa60f4-ca90-44f2-91ce-570ba16b8cbb",
   "metadata": {
    "id": "20aa60f4-ca90-44f2-91ce-570ba16b8cbb",
    "outputId": "e93b1ab4-a9f0-4084-c57f-bd23b862d73a"
   },
   "outputs": [
    {
     "name": "stdout",
     "output_type": "stream",
     "text": [
      "691/697 [============================>.] - ETA: 1:11 - loss: 28.3748 - accuracy: 0.3704"
     ]
    }
   ],
   "source": [
    "model.evaluate(test_generator)"
   ]
  },
  {
   "cell_type": "code",
   "execution_count": null,
   "id": "b795a0ad-56c4-4ef2-8fbc-ec8f20755450",
   "metadata": {
    "id": "b795a0ad-56c4-4ef2-8fbc-ec8f20755450"
   },
   "outputs": [
    {
     "name": "stdout",
     "output_type": "stream",
     "text": [
      "4/4 [==============================] - 13s 3s/step\n",
      "4/4 [==============================] - 12s 3s/step\n",
      "4/4 [==============================] - 12s 3s/step\n",
      "4/4 [==============================] - 12s 3s/step\n",
      "4/4 [==============================] - 13s 3s/step\n",
      "4/4 [==============================] - 12s 3s/step\n",
      "4/4 [==============================] - 12s 3s/step\n",
      "4/4 [==============================] - 12s 3s/step\n",
      "4/4 [==============================] - 13s 3s/step\n",
      "4/4 [==============================] - 12s 3s/step\n",
      "4/4 [==============================] - 12s 3s/step\n",
      "4/4 [==============================] - 12s 3s/step\n",
      "4/4 [==============================] - 13s 3s/step\n",
      "4/4 [==============================] - 13s 3s/step\n",
      "4/4 [==============================] - 12s 3s/step\n",
      "4/4 [==============================] - 12s 3s/step\n",
      "4/4 [==============================] - 13s 3s/step\n",
      "4/4 [==============================] - 13s 3s/step\n",
      "4/4 [==============================] - 12s 3s/step\n",
      "4/4 [==============================] - 12s 3s/step\n",
      "4/4 [==============================] - 13s 3s/step\n",
      "4/4 [==============================] - 12s 3s/step\n",
      "4/4 [==============================] - 12s 3s/step\n",
      "4/4 [==============================] - 12s 3s/step\n",
      "4/4 [==============================] - 13s 3s/step\n",
      "4/4 [==============================] - 12s 3s/step\n",
      "4/4 [==============================] - 12s 3s/step\n",
      "4/4 [==============================] - 12s 3s/step\n",
      "4/4 [==============================] - 12s 3s/step\n",
      "4/4 [==============================] - 12s 3s/step\n",
      "4/4 [==============================] - 12s 3s/step\n",
      "4/4 [==============================] - 12s 3s/step\n",
      "4/4 [==============================] - 12s 3s/step\n",
      "4/4 [==============================] - 12s 3s/step\n",
      "4/4 [==============================] - 12s 3s/step\n",
      "4/4 [==============================] - 12s 3s/step\n",
      "4/4 [==============================] - 12s 3s/step\n",
      "4/4 [==============================] - 12s 3s/step\n",
      "4/4 [==============================] - 12s 3s/step\n",
      "4/4 [==============================] - 13s 3s/step\n",
      "4/4 [==============================] - 12s 3s/step\n",
      "4/4 [==============================] - 13s 3s/step\n",
      "4/4 [==============================] - 12s 3s/step\n",
      "4/4 [==============================] - 13s 3s/step\n",
      "4/4 [==============================] - 12s 3s/step\n",
      "4/4 [==============================] - 12s 3s/step\n",
      "4/4 [==============================] - 12s 3s/step\n",
      "4/4 [==============================] - 13s 3s/step\n",
      "4/4 [==============================] - 12s 3s/step\n",
      "4/4 [==============================] - 13s 3s/step\n",
      "4/4 [==============================] - 12s 3s/step\n",
      "4/4 [==============================] - 13s 3s/step\n",
      "4/4 [==============================] - 12s 3s/step\n",
      "4/4 [==============================] - 13s 3s/step\n",
      "4/4 [==============================] - 12s 3s/step\n",
      "4/4 [==============================] - 13s 3s/step\n",
      "4/4 [==============================] - 12s 3s/step\n",
      "4/4 [==============================] - 12s 3s/step\n",
      "4/4 [==============================] - 12s 3s/step\n",
      "4/4 [==============================] - 13s 3s/step\n",
      "4/4 [==============================] - 12s 3s/step\n",
      "4/4 [==============================] - 12s 3s/step\n",
      "4/4 [==============================] - 13s 3s/step\n",
      "4/4 [==============================] - 13s 3s/step\n",
      "4/4 [==============================] - 13s 3s/step\n",
      "4/4 [==============================] - 12s 3s/step\n",
      "4/4 [==============================] - 13s 3s/step\n",
      "4/4 [==============================] - 13s 3s/step\n",
      "4/4 [==============================] - 13s 3s/step\n",
      "4/4 [==============================] - 13s 3s/step\n",
      "4/4 [==============================] - 13s 3s/step\n",
      "4/4 [==============================] - 12s 3s/step\n",
      "4/4 [==============================] - 13s 3s/step\n",
      "4/4 [==============================] - 12s 3s/step\n",
      "4/4 [==============================] - 13s 3s/step\n",
      "4/4 [==============================] - 12s 3s/step\n",
      "4/4 [==============================] - 13s 3s/step\n",
      "4/4 [==============================] - 13s 3s/step\n",
      "4/4 [==============================] - 13s 3s/step\n",
      "4/4 [==============================] - 13s 3s/step\n",
      "4/4 [==============================] - 13s 3s/step\n",
      "4/4 [==============================] - 12s 3s/step\n",
      "4/4 [==============================] - 13s 3s/step\n",
      "4/4 [==============================] - 12s 3s/step\n",
      "4/4 [==============================] - 13s 3s/step\n",
      "4/4 [==============================] - 13s 3s/step\n",
      "4/4 [==============================] - 13s 3s/step\n",
      "4/4 [==============================] - 13s 3s/step\n",
      "4/4 [==============================] - 13s 3s/step\n",
      "4/4 [==============================] - 12s 3s/step\n",
      "4/4 [==============================] - 13s 3s/step\n",
      "4/4 [==============================] - 12s 3s/step\n",
      "4/4 [==============================] - 12s 3s/step\n",
      "4/4 [==============================] - 14s 3s/step\n",
      "4/4 [==============================] - 14s 4s/step\n",
      "4/4 [==============================] - 15s 4s/step\n",
      "4/4 [==============================] - 16s 4s/step\n",
      "4/4 [==============================] - 17s 4s/step\n",
      "4/4 [==============================] - 14s 4s/step\n",
      "4/4 [==============================] - 14s 4s/step\n",
      "4/4 [==============================] - 14s 4s/step\n",
      "4/4 [==============================] - 14s 4s/step\n",
      "4/4 [==============================] - 15s 4s/step\n",
      "4/4 [==============================] - 16s 4s/step\n",
      "4/4 [==============================] - 16s 4s/step\n",
      "4/4 [==============================] - 17s 4s/step\n",
      "4/4 [==============================] - 16s 4s/step\n",
      "4/4 [==============================] - 14s 4s/step\n",
      "4/4 [==============================] - 14s 4s/step\n",
      "4/4 [==============================] - 14s 3s/step\n",
      "4/4 [==============================] - 15s 4s/step\n",
      "4/4 [==============================] - 15s 4s/step\n",
      "4/4 [==============================] - 18s 5s/step\n",
      "4/4 [==============================] - 29s 7s/step\n",
      "4/4 [==============================] - 30s 7s/step\n",
      "4/4 [==============================] - 29s 7s/step\n",
      "4/4 [==============================] - 27s 7s/step\n",
      "4/4 [==============================] - 13s 3s/step\n",
      "4/4 [==============================] - 13s 3s/step\n",
      "4/4 [==============================] - 13s 3s/step\n",
      "4/4 [==============================] - 13s 3s/step\n",
      "4/4 [==============================] - 13s 3s/step\n",
      "4/4 [==============================] - 15s 4s/step\n",
      "4/4 [==============================] - 15s 3s/step\n",
      "4/4 [==============================] - 15s 4s/step\n",
      "4/4 [==============================] - 12s 3s/step\n",
      "4/4 [==============================] - 13s 3s/step\n",
      "4/4 [==============================] - 12s 3s/step\n",
      "4/4 [==============================] - 13s 3s/step\n",
      "4/4 [==============================] - 12s 3s/step\n",
      "4/4 [==============================] - 13s 3s/step\n",
      "4/4 [==============================] - 13s 3s/step\n",
      "4/4 [==============================] - 13s 3s/step\n",
      "4/4 [==============================] - 13s 3s/step\n",
      "4/4 [==============================] - 13s 3s/step\n",
      "4/4 [==============================] - 12s 3s/step\n",
      "4/4 [==============================] - 12s 3s/step\n",
      "4/4 [==============================] - 12s 3s/step\n",
      "4/4 [==============================] - 12s 3s/step\n",
      "4/4 [==============================] - 12s 3s/step\n",
      "4/4 [==============================] - 13s 3s/step\n",
      "4/4 [==============================] - 13s 3s/step\n",
      "4/4 [==============================] - 14s 3s/step\n",
      "4/4 [==============================] - 12s 3s/step\n",
      "4/4 [==============================] - 13s 3s/step\n",
      "4/4 [==============================] - 13s 3s/step\n",
      "4/4 [==============================] - 12s 3s/step\n",
      "4/4 [==============================] - 12s 3s/step\n",
      "4/4 [==============================] - 12s 3s/step\n",
      "4/4 [==============================] - 13s 3s/step\n",
      "4/4 [==============================] - 14s 3s/step\n",
      "4/4 [==============================] - 14s 3s/step\n",
      "4/4 [==============================] - 12s 3s/step\n",
      "4/4 [==============================] - 13s 3s/step\n",
      "4/4 [==============================] - 12s 3s/step\n",
      "4/4 [==============================] - 12s 3s/step\n",
      "4/4 [==============================] - 12s 3s/step\n",
      "4/4 [==============================] - 13s 3s/step\n",
      "4/4 [==============================] - 13s 3s/step\n",
      "4/4 [==============================] - 13s 3s/step\n",
      "4/4 [==============================] - 13s 3s/step\n",
      "4/4 [==============================] - 13s 3s/step\n",
      "4/4 [==============================] - 12s 3s/step\n",
      "4/4 [==============================] - 12s 3s/step\n",
      "4/4 [==============================] - 12s 3s/step\n",
      "4/4 [==============================] - 12s 3s/step\n",
      "4/4 [==============================] - 12s 3s/step\n",
      "4/4 [==============================] - 13s 3s/step\n",
      "4/4 [==============================] - 13s 3s/step\n",
      "4/4 [==============================] - 13s 3s/step\n",
      "4/4 [==============================] - 12s 3s/step\n",
      "4/4 [==============================] - 12s 3s/step\n",
      "4/4 [==============================] - 13s 3s/step\n",
      "4/4 [==============================] - 12s 3s/step\n",
      "4/4 [==============================] - 12s 3s/step\n",
      "4/4 [==============================] - 12s 3s/step\n",
      "4/4 [==============================] - 13s 3s/step\n",
      "4/4 [==============================] - 13s 3s/step\n",
      "4/4 [==============================] - 14s 3s/step\n",
      "4/4 [==============================] - 12s 3s/step\n",
      "4/4 [==============================] - 12s 3s/step\n",
      "4/4 [==============================] - 12s 3s/step\n",
      "4/4 [==============================] - 12s 3s/step\n",
      "4/4 [==============================] - 13s 3s/step\n",
      "4/4 [==============================] - 12s 3s/step\n",
      "4/4 [==============================] - 13s 3s/step\n",
      "4/4 [==============================] - 13s 3s/step\n",
      "4/4 [==============================] - 14s 4s/step\n",
      "4/4 [==============================] - 12s 3s/step\n",
      "4/4 [==============================] - 12s 3s/step\n",
      "4/4 [==============================] - 12s 3s/step\n",
      "4/4 [==============================] - 13s 3s/step\n",
      "4/4 [==============================] - 12s 3s/step\n",
      "4/4 [==============================] - 12s 3s/step\n",
      "4/4 [==============================] - 13s 3s/step\n",
      "4/4 [==============================] - 13s 3s/step\n",
      "4/4 [==============================] - 13s 3s/step\n",
      "4/4 [==============================] - 12s 3s/step\n",
      "4/4 [==============================] - 12s 3s/step\n",
      "4/4 [==============================] - 13s 3s/step\n",
      "4/4 [==============================] - 12s 3s/step\n",
      "4/4 [==============================] - 12s 3s/step\n",
      "4/4 [==============================] - 12s 3s/step\n",
      "4/4 [==============================] - 13s 3s/step\n",
      "4/4 [==============================] - 13s 3s/step\n",
      "4/4 [==============================] - 14s 3s/step\n",
      "4/4 [==============================] - 12s 3s/step\n",
      "4/4 [==============================] - 13s 3s/step\n",
      "4/4 [==============================] - 12s 3s/step\n",
      "4/4 [==============================] - 12s 3s/step\n",
      "4/4 [==============================] - 13s 3s/step\n",
      "4/4 [==============================] - 12s 3s/step\n",
      "4/4 [==============================] - 13s 3s/step\n",
      "4/4 [==============================] - 13s 3s/step\n",
      "4/4 [==============================] - 14s 3s/step\n",
      "4/4 [==============================] - 13s 3s/step\n",
      "4/4 [==============================] - 13s 3s/step\n",
      "4/4 [==============================] - 12s 3s/step\n",
      "4/4 [==============================] - 13s 3s/step\n",
      "4/4 [==============================] - 12s 3s/step\n",
      "4/4 [==============================] - 12s 3s/step\n",
      "4/4 [==============================] - 13s 3s/step\n",
      "4/4 [==============================] - 13s 3s/step\n",
      "4/4 [==============================] - 13s 3s/step\n",
      "4/4 [==============================] - 12s 3s/step\n",
      "4/4 [==============================] - 12s 3s/step\n",
      "4/4 [==============================] - 13s 3s/step\n",
      "4/4 [==============================] - 12s 3s/step\n",
      "4/4 [==============================] - 12s 3s/step\n",
      "4/4 [==============================] - 12s 3s/step\n",
      "4/4 [==============================] - 13s 3s/step\n",
      "4/4 [==============================] - 13s 3s/step\n",
      "4/4 [==============================] - 13s 3s/step\n",
      "4/4 [==============================] - 12s 3s/step\n",
      "4/4 [==============================] - 12s 3s/step\n",
      "4/4 [==============================] - 12s 3s/step\n",
      "4/4 [==============================] - 12s 3s/step\n",
      "4/4 [==============================] - 12s 3s/step\n",
      "4/4 [==============================] - 12s 3s/step\n",
      "4/4 [==============================] - 13s 3s/step\n",
      "4/4 [==============================] - 13s 3s/step\n",
      "4/4 [==============================] - 15s 4s/step\n",
      "4/4 [==============================] - 12s 3s/step\n",
      "4/4 [==============================] - 12s 3s/step\n",
      "4/4 [==============================] - 13s 3s/step\n",
      "4/4 [==============================] - 13s 3s/step\n",
      "4/4 [==============================] - 12s 3s/step\n",
      "4/4 [==============================] - 12s 3s/step\n",
      "4/4 [==============================] - 13s 3s/step\n",
      "4/4 [==============================] - 13s 3s/step\n",
      "4/4 [==============================] - 14s 3s/step\n",
      "4/4 [==============================] - 12s 3s/step\n",
      "4/4 [==============================] - 13s 3s/step\n",
      "4/4 [==============================] - 13s 3s/step\n",
      "4/4 [==============================] - 12s 3s/step\n",
      "4/4 [==============================] - 12s 3s/step\n",
      "4/4 [==============================] - 13s 3s/step\n",
      "4/4 [==============================] - 13s 3s/step\n",
      "4/4 [==============================] - 13s 3s/step\n",
      "4/4 [==============================] - 13s 3s/step\n",
      "4/4 [==============================] - 13s 3s/step\n",
      "4/4 [==============================] - 12s 3s/step\n",
      "4/4 [==============================] - 12s 3s/step\n",
      "4/4 [==============================] - 12s 3s/step\n",
      "4/4 [==============================] - 13s 3s/step\n",
      "4/4 [==============================] - 12s 3s/step\n",
      "4/4 [==============================] - 12s 3s/step\n",
      "4/4 [==============================] - 12s 3s/step\n",
      "4/4 [==============================] - 12s 3s/step\n",
      "4/4 [==============================] - 12s 3s/step\n",
      "4/4 [==============================] - 12s 3s/step\n",
      "4/4 [==============================] - 13s 3s/step\n",
      "4/4 [==============================] - 15s 3s/step\n",
      "4/4 [==============================] - 12s 3s/step\n",
      "4/4 [==============================] - 12s 3s/step\n",
      "4/4 [==============================] - 12s 3s/step\n",
      "4/4 [==============================] - 12s 3s/step\n",
      "4/4 [==============================] - 13s 3s/step\n",
      "4/4 [==============================] - 12s 3s/step\n",
      "4/4 [==============================] - 13s 3s/step\n",
      "4/4 [==============================] - 14s 3s/step\n",
      "4/4 [==============================] - 12s 3s/step\n",
      "4/4 [==============================] - 13s 3s/step\n",
      "4/4 [==============================] - 12s 3s/step\n",
      "4/4 [==============================] - 12s 3s/step\n",
      "4/4 [==============================] - 12s 3s/step\n",
      "4/4 [==============================] - 13s 3s/step\n",
      "4/4 [==============================] - 13s 3s/step\n",
      "4/4 [==============================] - 13s 3s/step\n",
      "4/4 [==============================] - 15s 3s/step\n",
      "4/4 [==============================] - 12s 3s/step\n",
      "4/4 [==============================] - 12s 3s/step\n",
      "4/4 [==============================] - 12s 3s/step\n",
      "4/4 [==============================] - 13s 3s/step\n",
      "4/4 [==============================] - 12s 3s/step\n",
      "4/4 [==============================] - 12s 3s/step\n",
      "4/4 [==============================] - 13s 3s/step\n",
      "4/4 [==============================] - 13s 3s/step\n",
      "4/4 [==============================] - 14s 3s/step\n",
      "4/4 [==============================] - 12s 3s/step\n",
      "4/4 [==============================] - 12s 3s/step\n",
      "4/4 [==============================] - 12s 3s/step\n",
      "4/4 [==============================] - 12s 3s/step\n",
      "4/4 [==============================] - 12s 3s/step\n",
      "4/4 [==============================] - 12s 3s/step\n",
      "4/4 [==============================] - 13s 3s/step\n",
      "4/4 [==============================] - 13s 3s/step\n",
      "4/4 [==============================] - 13s 3s/step\n",
      "4/4 [==============================] - 14s 3s/step\n",
      "4/4 [==============================] - 13s 3s/step\n",
      "4/4 [==============================] - 12s 3s/step\n"
     ]
    }
   ],
   "source": [
    "y_test=[]\n",
    "y_pred=[]\n",
    "i=0\n",
    "for i in range (len(test_generator)):\n",
    "    x_test,y_test_1=test_generator[i]\n",
    "    y_pred_1=model.predict(x_test)\n",
    "    y_test.append(y_test_1)\n",
    "    y_pred.append(y_pred_1)\n",
    "    i=i+1\n"
   ]
  },
  {
   "cell_type": "code",
   "execution_count": null,
   "id": "a0d06e84-fcc9-4ba8-94ce-5266d3f38981",
   "metadata": {
    "id": "a0d06e84-fcc9-4ba8-94ce-5266d3f38981",
    "outputId": "2e2f6598-e16e-43f3-8a59-b9cf43e7bbf6"
   },
   "outputs": [],
   "source": [
    "y_test_2=np.array(y_test)\n",
    "Y_test=y_test_2.reshape((y_test_2.shape[0]*y_test_2.shape[1], y_test_2.shape[2]))\n",
    "print(Y_test.shape)"
   ]
  },
  {
   "cell_type": "code",
   "execution_count": null,
   "id": "757e2f56-5285-4a78-8d2d-e80cb4a54b13",
   "metadata": {
    "id": "757e2f56-5285-4a78-8d2d-e80cb4a54b13",
    "outputId": "c790e3d8-195a-4e72-bacc-b774dbf76be8"
   },
   "outputs": [],
   "source": [
    "y_pred_2=np.array(y_pred)\n",
    "Y_pred=y_pred_2.reshape((y_pred_2.shape[0]*y_pred_2.shape[1], y_pred_2.shape[2]))\n",
    "print(Y_pred.shape)"
   ]
  },
  {
   "cell_type": "code",
   "execution_count": null,
   "id": "f87e30c5-f8d9-4e45-bd9b-ddd8d560fd3d",
   "metadata": {
    "id": "f87e30c5-f8d9-4e45-bd9b-ddd8d560fd3d",
    "outputId": "094d3e06-40b2-4aa9-9dcc-1314b58731be"
   },
   "outputs": [],
   "source": [
    "\n",
    "# plt.plot(history.history['accuracy'])\n",
    "# plt.plot(history.history['val_accuracy'])\n",
    "# plt.title('model accuracy')\n",
    "# plt.legend(['train', 'val'], loc='upper left')\n",
    "# # plt.show()\n",
    "# plt.savefig(path+'accuracy.png')\n",
    "# plt.clf()\n",
    "\n",
    "# plt.plot(history.history['loss'])\n",
    "# plt.plot(history.history['val_loss'])\n",
    "# plt.title('model loss')\n",
    "# plt.legend(['train', 'val'], loc='upper left')\n",
    "# # plt.show()\n",
    "# plt.savefig(path+'loss.png')\n",
    "# plt.clf()\n",
    "\n",
    "\n",
    "\n",
    "from sklearn.metrics import confusion_matrix\n",
    "import seaborn as sns\n",
    "\n",
    "#Y_pred = ResNet50_model.predict(x_test)\n",
    "# Y_pred = model.predict(x_test)\n",
    "\n",
    "# Y_pred = model.predict(test_generator)\n",
    "\n",
    "Y_pred_classes = np.argmax(Y_pred,axis = 1)\n",
    "Y_true = np.argmax(Y_test,axis = 1)\n",
    "\n",
    "confusion_mtx = confusion_matrix(Y_true, Y_pred_classes)\n",
    "\n",
    "print(confusion_mtx)\n",
    "\n",
    "total_instances = np.sum(confusion_mtx,axis=1)\n",
    "\n",
    "\n",
    "confusion_matrix_percentages = []\n",
    "\n",
    "for i in range(17):\n",
    "    confusion_matrix_percentages_1 = (confusion_mtx[i, :] / total_instances[i]) * 100\n",
    "    confusion_matrix_percentages.append(confusion_matrix_percentages_1)\n",
    "\n",
    "confusion_matrix_percentages = np.array(confusion_matrix_percentages)\n",
    "\n",
    "np.set_printoptions(suppress=True, precision=2)\n",
    "\n",
    "print(confusion_matrix_percentages)\n",
    "\n",
    "\n",
    "f,ax = plt.subplots(figsize=(17, 17))\n",
    "sns.heatmap(confusion_matrix_percentages, annot=True, linewidths=0.01,cmap=\"OrRd\",linecolor=\"black\", fmt= '.1f',ax=ax)\n",
    "plt.xlabel(\"Predicted Label\")\n",
    "plt.ylabel(\"True Label\")\n",
    "plt.title(\"Confusion Matrix\")\n",
    "plt.show()\n",
    "# plt.savefig(path+'Confusion_matrix.png')\n",
    "# plt.clf()\n",
    "\n",
    "from sklearn.metrics import classification_report\n",
    "\n",
    "report = classification_report(Y_true, Y_pred_classes, output_dict=True)\n",
    "df = pd.DataFrame(report).transpose()\n",
    "\n",
    "#df.to_csv(path+'classification_report.csv', sep='\\t')\n",
    "\n",
    "\n",
    "print(classification_report(Y_true, Y_pred_classes))\n",
    "\n",
    "\n",
    "\n",
    "###############################################################################################################################################\n",
    "# class_labels = ['HS-TO','TO-MWF','MWF-HS']\n",
    "\n",
    "# # Create a heatmap\n",
    "# plt.figure(figsize=(5, 5))\n",
    "# sns.set(font_scale=1.25)  # Adjust the font size as needed\n",
    "# sns.heatmap(confusion_matrix, annot=True, fmt='.2f', cmap='Reds', xticklabels=class_labels, yticklabels=class_labels)\n",
    "\n",
    "# # Get the current Axes instance\n",
    "# ax = plt.gca()\n",
    "\n",
    "# # # Set all the text in the heatmap to bold\n",
    "# # for item in ([ax.title, ax.xaxis.label, ax.yaxis.label] +\n",
    "# #              ax.get_xticklabels() + ax.get_yticklabels()):\n",
    "# #     item.set_fontweight('bold')\n",
    "\n",
    "# # Customize the heatmap (optional)\n",
    "# plt.xlabel('Predicted Label')\n",
    "# plt.gca().set_xticklabels(class_labels, rotation=0, ha='center', fontsize=12, fontweight='bold')  # Customize x-axis labels\n",
    "# # sns.heatmap.tick_params(axis='x', pad=10)\n",
    "\n",
    "\n",
    "\n",
    "# plt.ylabel('True Label')\n",
    "# plt.gca().set_yticklabels(class_labels, rotation=90, ha='right', fontsize=12, fontweight='bold')  # Customize y-axis labels\n",
    "\n",
    "# # plt.title('Confusion Matrix')\n",
    "# plt.show()\n"
   ]
  },
  {
   "cell_type": "code",
   "execution_count": null,
   "id": "b7650c39-6b83-4052-ab5c-ce63c13ed94e",
   "metadata": {},
   "outputs": [],
   "source": []
  }
 ],
 "metadata": {
  "colab": {
   "provenance": []
  },
  "environment": {
   "kernel": "conda-env-tensorflow-tensorflow",
   "name": "workbench-notebooks.m109",
   "type": "gcloud",
   "uri": "gcr.io/deeplearning-platform-release/workbench-notebooks:m109"
  },
  "kernelspec": {
   "display_name": "TensorFlow 2-11",
   "language": "python",
   "name": "conda-env-tensorflow-tensorflow"
  },
  "language_info": {
   "codemirror_mode": {
    "name": "ipython",
    "version": 3
   },
   "file_extension": ".py",
   "mimetype": "text/x-python",
   "name": "python",
   "nbconvert_exporter": "python",
   "pygments_lexer": "ipython3",
   "version": "3.10.12"
  }
 },
 "nbformat": 4,
 "nbformat_minor": 5
}
