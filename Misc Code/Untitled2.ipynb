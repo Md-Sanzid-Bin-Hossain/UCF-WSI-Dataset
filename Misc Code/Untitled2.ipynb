{
 "cells": [
  {
   "cell_type": "markdown",
   "metadata": {},
   "source": [
    "# Export Home Directory\n",
    "\n",
    "  Running this notebook will copy all of the files from your home directory to:\n",
    "\n",
    "  **gs://digital-pathology-392716-us-notebooks/us-central1-a/instance-20230726-182811**\n",
    "\n",
    "  See [gsutil](https://cloud.google.com/storage/docs/gsutil) documentation for\n",
    "  more information if you would like to customize the export behavior.\n",
    "  "
   ]
  },
  {
   "cell_type": "code",
   "execution_count": null,
   "metadata": {},
   "outputs": [],
   "source": [
    "#!/bin/bash\n",
    "\n",
    "BUCKET=\"gs://digital-pathology-392716-us-notebooks\"\n",
    "FOLDER=\"us-central1-a/instance-20230726-182811\"\n",
    "SOURCE_FOLDER=\"/home/jupyter/\"\n",
    "\n",
    "# Check if the bucket exists\n",
    "gsutil ls -b \"${BUCKET}\"\n",
    "if [[ \"${?}\" != 0 ]] ; then\n",
    "  echo \"${BUCKET} does not exist, will attempt to create\"\n",
    "  gsutil mb \"${BUCKET}\"\n",
    "fi\n",
    "\n",
    "# Backup the specific folder\n",
    "echo \"Backing up data from ${SOURCE_FOLDER} to ${BUCKET}/${FOLDER}...\"\n",
    "gsutil -m rsync -r -x '^\\.|\\/\\.' \"${SOURCE_FOLDER}\" \"${BUCKET}/${FOLDER}/\"\n"
   ]
  }
 ],
 "metadata": {
  "environment": {
   "kernel": "conda-root-py",
   "name": "workbench-notebooks.m109",
   "type": "gcloud",
   "uri": "gcr.io/deeplearning-platform-release/workbench-notebooks:m109"
  },
  "kernelspec": {
   "display_name": "Python 3",
   "language": "python",
   "name": "conda-root-py"
  },
  "language_info": {
   "codemirror_mode": {
    "name": "ipython",
    "version": 3
   },
   "file_extension": ".py",
   "mimetype": "text/x-python",
   "name": "python",
   "nbconvert_exporter": "python",
   "pygments_lexer": "ipython3",
   "version": "3.10.12"
  }
 },
 "nbformat": 4,
 "nbformat_minor": 4
}
