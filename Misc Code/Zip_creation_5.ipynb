{
 "cells": [
  {
   "cell_type": "code",
   "execution_count": 2,
   "id": "74b55d7c-3b0f-46f9-91d0-99bbef102114",
   "metadata": {},
   "outputs": [
    {
     "name": "stdout",
     "output_type": "stream",
     "text": [
      "Zip archive created: '/home/jupyter/76342.zip'\n"
     ]
    }
   ],
   "source": [
    "import shutil\n",
    "\n",
    "def create_zip_archive(source_folder, destination_zip):\n",
    "    try:\n",
    "        # Create a zip archive of the source folder\n",
    "        shutil.make_archive(destination_zip, 'zip', source_folder)\n",
    "        print(f\"Zip archive created: '{destination_zip}.zip'\")\n",
    "    except Exception as e:\n",
    "        print(f\"An error occurred: {e}\")\n",
    "\n",
    "# Call the function with source folder and destination zip filename\n",
    "source_folder = \"/home/jupyter/Patch_extraction/0/76342\"\n",
    "destination_zip = \"/home/jupyter/76342\"\n",
    "create_zip_archive(source_folder, destination_zip)\n"
   ]
  }
 ],
 "metadata": {
  "environment": {
   "kernel": "conda-root-py",
   "name": "workbench-notebooks.m109",
   "type": "gcloud",
   "uri": "gcr.io/deeplearning-platform-release/workbench-notebooks:m109"
  },
  "kernelspec": {
   "display_name": "Python 3",
   "language": "python",
   "name": "conda-root-py"
  },
  "language_info": {
   "codemirror_mode": {
    "name": "ipython",
    "version": 3
   },
   "file_extension": ".py",
   "mimetype": "text/x-python",
   "name": "python",
   "nbconvert_exporter": "python",
   "pygments_lexer": "ipython3",
   "version": "3.10.12"
  }
 },
 "nbformat": 4,
 "nbformat_minor": 5
}
