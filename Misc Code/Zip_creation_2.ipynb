{
 "cells": [
  {
   "cell_type": "code",
   "execution_count": 2,
   "id": "da57d3c3-e666-4e4d-85db-00363da26d58",
   "metadata": {},
   "outputs": [
    {
     "name": "stdout",
     "output_type": "stream",
     "text": [
      "Zip archive created: '/home/jupyter/76336.zip'\n",
      "Zip file size: 2220211114 bytes\n"
     ]
    }
   ],
   "source": [
    "import shutil\n",
    "import os\n",
    "\n",
    "def create_zip_archive(source_folder, destination_zip):\n",
    "    try:\n",
    "        # Create a zip archive of the source folder\n",
    "        shutil.make_archive(destination_zip, 'zip', source_folder)\n",
    "        print(f\"Zip archive created: '{destination_zip}.zip'\")\n",
    "    except Exception as e:\n",
    "        print(f\"An error occurred: {e}\")\n",
    "\n",
    "# Call the function with source folder and destination zip filename\n",
    "source_folder = \"/home/jupyter/Patch_extraction/0/76336\"\n",
    "destination_zip = \"/home/jupyter/76336\"\n",
    "create_zip_archive(source_folder, destination_zip)\n",
    "\n",
    "# Verify the zip file size to ensure it is created correctly\n",
    "zip_path = f\"{destination_zip}.zip\"\n",
    "if os.path.isfile(zip_path):\n",
    "    print(f\"Zip file size: {os.path.getsize(zip_path)} bytes\")\n",
    "else:\n",
    "    print(\"Zip file was not created.\")\n"
   ]
  },
  {
   "cell_type": "code",
   "execution_count": 3,
   "id": "f6d7c47c-450e-48e2-a2e8-189805929f00",
   "metadata": {},
   "outputs": [
    {
     "data": {
      "text/html": [
       "<a href='/home/jupyter/76336.zip' target='_blank'>/home/jupyter/76336.zip</a><br>"
      ],
      "text/plain": [
       "/home/jupyter/76336.zip"
      ]
     },
     "execution_count": 3,
     "metadata": {},
     "output_type": "execute_result"
    }
   ],
   "source": [
    "import IPython.display as ipd\n",
    "\n",
    "destination_zip = \"/home/jupyter/76336.zip\"\n",
    "ipd.FileLink(destination_zip)\n"
   ]
  }
 ],
 "metadata": {
  "environment": {
   "kernel": "conda-root-py",
   "name": "workbench-notebooks.m109",
   "type": "gcloud",
   "uri": "gcr.io/deeplearning-platform-release/workbench-notebooks:m109"
  },
  "kernelspec": {
   "display_name": "Python 3",
   "language": "python",
   "name": "conda-root-py"
  },
  "language_info": {
   "codemirror_mode": {
    "name": "ipython",
    "version": 3
   },
   "file_extension": ".py",
   "mimetype": "text/x-python",
   "name": "python",
   "nbconvert_exporter": "python",
   "pygments_lexer": "ipython3",
   "version": "3.10.12"
  }
 },
 "nbformat": 4,
 "nbformat_minor": 5
}
