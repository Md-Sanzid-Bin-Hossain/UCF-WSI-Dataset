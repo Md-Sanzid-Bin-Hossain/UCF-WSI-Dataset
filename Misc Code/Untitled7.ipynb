{
 "cells": [
  {
   "cell_type": "code",
   "execution_count": 3,
   "id": "17a9edbc-1ab8-421c-a3ae-0eeb6bf88137",
   "metadata": {},
   "outputs": [
    {
     "name": "stdout",
     "output_type": "stream",
     "text": [
      "Folder sizes have been saved to folder_sizes.csv\n"
     ]
    }
   ],
   "source": [
    "import os\n",
    "import csv\n",
    "\n",
    "def get_folder_size(folder_path):\n",
    "    \"\"\"Calculate the total size of the folder in gigabytes (GB).\"\"\"\n",
    "    total_size = 0\n",
    "    for dirpath, dirnames, filenames in os.walk(folder_path):\n",
    "        for file in filenames:\n",
    "            file_path = os.path.join(dirpath, file)\n",
    "            total_size += os.path.getsize(file_path)\n",
    "    # Convert bytes to gigabytes\n",
    "    total_size_gb = total_size / (1024 ** 3)\n",
    "    return total_size_gb\n",
    "\n",
    "def calculate_folder_sizes(base_folder):\n",
    "    \"\"\"Calculate the size of each subfolder in the base folder.\"\"\"\n",
    "    folder_sizes = []\n",
    "    for subfolder in os.listdir(base_folder):\n",
    "        subfolder_path = os.path.join(base_folder, subfolder)\n",
    "        if os.path.isdir(subfolder_path):\n",
    "            size = get_folder_size(subfolder_path)\n",
    "            folder_sizes.append((subfolder, size))\n",
    "    return folder_sizes\n",
    "\n",
    "def save_to_csv(folder_sizes, output_file):\n",
    "    \"\"\"Save the folder sizes to a CSV file.\"\"\"\n",
    "    with open(output_file, mode='w', newline='') as file:\n",
    "        writer = csv.writer(file)\n",
    "        writer.writerow(['Subfolder', 'Size (GB)'])\n",
    "        writer.writerows(folder_sizes)\n",
    "\n",
    "if __name__ == \"__main__\":\n",
    "    base_folder = '/home/jupyter/Patch_extraction/'  # Replace with the path to your base folder containing subfolders\n",
    "    output_file = 'folder_sizes.csv'\n",
    "    \n",
    "    folder_sizes = calculate_folder_sizes(base_folder)\n",
    "    save_to_csv(folder_sizes, output_file)\n",
    "    \n",
    "    print(f\"Folder sizes have been saved to {output_file}\")\n"
   ]
  }
 ],
 "metadata": {
  "environment": {
   "kernel": "conda-root-py",
   "name": "workbench-notebooks.m109",
   "type": "gcloud",
   "uri": "gcr.io/deeplearning-platform-release/workbench-notebooks:m109"
  },
  "kernelspec": {
   "display_name": "Python 3",
   "language": "python",
   "name": "conda-root-py"
  },
  "language_info": {
   "codemirror_mode": {
    "name": "ipython",
    "version": 3
   },
   "file_extension": ".py",
   "mimetype": "text/x-python",
   "name": "python",
   "nbconvert_exporter": "python",
   "pygments_lexer": "ipython3",
   "version": "3.10.12"
  }
 },
 "nbformat": 4,
 "nbformat_minor": 5
}
