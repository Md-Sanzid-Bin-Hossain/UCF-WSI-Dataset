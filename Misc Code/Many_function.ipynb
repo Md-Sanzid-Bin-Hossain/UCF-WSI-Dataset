{
 "cells": [
  {
   "cell_type": "code",
   "execution_count": 5,
   "id": "bbef8a93-9dc4-45ec-b65b-9cb8a88437d7",
   "metadata": {},
   "outputs": [
    {
     "name": "stdout",
     "output_type": "stream",
     "text": [
      "CSV file created at slide_class_mapping.csv\n"
     ]
    }
   ],
   "source": [
    "import os\n",
    "import pandas as pd\n",
    "\n",
    "# Base folder path\n",
    "base_folder_path = \"/home/jupyter/Patch_extraction\"  # Replace with the actual path to the patch extraction folder\n",
    "\n",
    "# List to hold the data\n",
    "data = []\n",
    "\n",
    "# Iterate through each class folder (0-14)\n",
    "for class_folder in range(15):\n",
    "    class_folder_path = os.path.join(base_folder_path, str(class_folder))\n",
    "    \n",
    "    if os.path.isdir(class_folder_path):\n",
    "        # Iterate through each slide ID folder in the class folder\n",
    "        for slide_id_folder in os.listdir(class_folder_path):\n",
    "            slide_id_path = os.path.join(class_folder_path, slide_id_folder)\n",
    "            \n",
    "            if os.path.isdir(slide_id_path):\n",
    "                # Append the slide ID and corresponding class ID to the data list\n",
    "                data.append([slide_id_folder, class_folder])\n",
    "\n",
    "# Create a DataFrame\n",
    "df = pd.DataFrame(data, columns=[\"Slide ID\", \"Class ID\"])\n",
    "\n",
    "# Save the DataFrame to a CSV file\n",
    "csv_path = \"slide_class_mapping.csv\"  # Replace with the desired output path\n",
    "df.to_csv(csv_path, index=False)\n",
    "\n",
    "print(f\"CSV file created at {csv_path}\")\n"
   ]
  },
  {
   "cell_type": "code",
   "execution_count": 2,
   "id": "d038a909-529b-436e-a530-b9fb172f1662",
   "metadata": {},
   "outputs": [
    {
     "name": "stdout",
     "output_type": "stream",
     "text": [
      "Total size of the folder /home/jupyter/0 is: 0 bytes (0.00 MB)\n"
     ]
    }
   ],
   "source": [
    "import os\n",
    "\n",
    "def get_folder_size(folder_path):\n",
    "    total_size = 0\n",
    "    for dirpath, dirnames, filenames in os.walk(folder_path):\n",
    "        for f in filenames:\n",
    "            fp = os.path.join(dirpath, f)\n",
    "            total_size += os.path.getsize(fp)\n",
    "    return total_size\n",
    "\n",
    "# Example usage\n",
    "folder_path = '/home/jupyter/0'\n",
    "folder_size = get_folder_size(folder_path)\n",
    "\n",
    "print(f'Total size of the folder {folder_path} is: {folder_size} bytes ({folder_size / (1024*1024):.2f} MB)')\n"
   ]
  },
  {
   "cell_type": "code",
   "execution_count": 12,
   "id": "767cee5d-c8fc-469c-aa18-1a0776108c73",
   "metadata": {},
   "outputs": [
    {
     "name": "stdout",
     "output_type": "stream",
     "text": [
      "Renaming complete.\n"
     ]
    }
   ],
   "source": [
    "import os\n",
    "\n",
    "# Define the directory where your files are located\n",
    "directory = '/home/jupyter/Patch_extraction/10/78605'  # Replace with the path to your folder\n",
    "\n",
    "# Iterate over all the files in the directory\n",
    "for filename in os.listdir(directory):\n",
    "    # Check if the file ends with '_class15'\n",
    "    if filename.endswith('_class15.png'):\n",
    "        # Create the new filename by replacing 'class15' with 'class10'\n",
    "        new_filename = filename.replace('_class15.png', '_class10.png')\n",
    "        \n",
    "        # Get the full paths for renaming\n",
    "        old_file = os.path.join(directory, filename)\n",
    "        new_file = os.path.join(directory, new_filename)\n",
    "        \n",
    "        # Rename the file\n",
    "        os.rename(old_file, new_file)\n",
    "\n",
    "print(\"Renaming complete.\")\n"
   ]
  },
  {
   "cell_type": "code",
   "execution_count": 38,
   "id": "f0faeaa5-294d-45a3-a95c-72f09644052a",
   "metadata": {},
   "outputs": [
    {
     "name": "stdout",
     "output_type": "stream",
     "text": [
      "Number of subfolders in /home/jupyter/Patch_extraction/0 : 475\n"
     ]
    }
   ],
   "source": [
    "import os\n",
    "\n",
    "def count_subfolders(folder_path):\n",
    "    \"\"\"\n",
    "    Count the number of subfolders in a given folder.\n",
    "    \n",
    "    Args:\n",
    "    - folder_path (str): Path to the folder.\n",
    "    \n",
    "    Returns:\n",
    "    - num_subfolders (int): Number of subfolders in the folder.\n",
    "    \"\"\"\n",
    "    # Initialize counter for subfolders\n",
    "    num_subfolders = 0\n",
    "    \n",
    "    # Iterate over items in the folder\n",
    "    for item in os.listdir(folder_path):\n",
    "        item_path = os.path.join(folder_path, item)\n",
    "        # Check if item is a directory (subfolder)\n",
    "        if os.path.isdir(item_path):\n",
    "            num_subfolders += 1\n",
    "    \n",
    "    return num_subfolders\n",
    "\n",
    "# Example usage:\n",
    "folder_path = '/home/jupyter/Patch_extraction/0'\n",
    "num_subfolders = count_subfolders(folder_path)\n",
    "print(\"Number of subfolders in\", folder_path, \":\", num_subfolders)\n"
   ]
  },
  {
   "cell_type": "code",
   "execution_count": 1,
   "id": "4aace032-206e-4e7b-b3e0-f92b506c80da",
   "metadata": {},
   "outputs": [
    {
     "name": "stdout",
     "output_type": "stream",
     "text": [
      "Patch information saved to 'patch_info.xlsx'\n"
     ]
    }
   ],
   "source": [
    "# import os\n",
    "# import openpyxl\n",
    "\n",
    "# def write_patches_to_excel(folder_path):\n",
    "#   \"\"\"\n",
    "#   This function writes patch information for each whole slide subfolder \n",
    "#   to separate sheets in an Excel file.\n",
    "\n",
    "#   Args:\n",
    "#       folder_path (str): Path to the folder containing subfolders (0-16).\n",
    "\n",
    "#   Returns:\n",
    "#       None\n",
    "#   \"\"\"\n",
    "\n",
    "#   # Create a new workbook\n",
    "#   wb = openpyxl.Workbook()\n",
    "\n",
    "#   # Loop through each subfolder (0-16)\n",
    "#   for subfolder in range(17):\n",
    "#     subfolder_path = os.path.join(folder_path, str(subfolder))\n",
    "\n",
    "#     if os.path.isdir(subfolder_path):\n",
    "#       # Create a new sheet for the subfolder\n",
    "#       sheet = wb.create_sheet(title=f\"Subfolder {subfolder}\")\n",
    "\n",
    "#       # Header row\n",
    "#       sheet.cell(row=1, column=1).value = \"Slide Name\"\n",
    "#       sheet.cell(row=1, column=2).value = \"Patch\"\n",
    "\n",
    "#       row_index = 2  # Starting row for data\n",
    "\n",
    "#       # Loop through each whole slide sub-subfolder\n",
    "#       for whole_slide_folder in os.listdir(subfolder_path):\n",
    "#         whole_slide_path = os.path.join(subfolder_path, whole_slide_folder)\n",
    "\n",
    "#         if os.path.isdir(whole_slide_path):\n",
    "#           # List the patches (filenames) in the sub-subfolder\n",
    "#           patches = os.listdir(whole_slide_path)\n",
    "\n",
    "#           # Write slide name and each patch to separate rows\n",
    "#           sheet.cell(row=row_index, column=1).value = whole_slide_folder\n",
    "#           for patch in patches:\n",
    "#             sheet.cell(row=row_index, column=2).value = patch\n",
    "#             row_index += 1  # Move to the next row for the next patch\n",
    "\n",
    "#   # Save the workbook as an Excel file\n",
    "#   wb.save(\"patch_info.xlsx\")\n",
    "\n",
    "#   print(\"Patch information saved to 'patch_info.xlsx'\")\n",
    "\n",
    "# # Specify the folder path containing subfolders (0-16)\n",
    "# folder_path = \"/home/jupyter/Patch_extraction\"\n",
    "# write_patches_to_excel(folder_path)\n"
   ]
  },
  {
   "cell_type": "code",
   "execution_count": 2,
   "id": "5fac44a6-c01a-46b0-9259-f6484b1b21b4",
   "metadata": {},
   "outputs": [
    {
     "name": "stdout",
     "output_type": "stream",
     "text": [
      "Patch information saved to 'patch_info_count.xlsx'\n"
     ]
    }
   ],
   "source": [
    "import os\n",
    "import openpyxl\n",
    "\n",
    "def write_patches_to_excel(folder_path):\n",
    "    # Create a new workbook\n",
    "    wb = openpyxl.Workbook()\n",
    "\n",
    "    # Loop through each subfolder (0-16)\n",
    "    for subfolder in range(17):\n",
    "        subfolder_path = os.path.join(folder_path, str(subfolder))\n",
    "\n",
    "        if os.path.isdir(subfolder_path):\n",
    "            # Create a new sheet for the subfolder\n",
    "            sheet = wb.create_sheet(title=f\"Subfolder {subfolder}\")\n",
    "\n",
    "            # Header row\n",
    "            sheet.cell(row=1, column=1).value = \"Slide Name\"\n",
    "            sheet.cell(row=1, column=2).value = \"Number of Patches\"\n",
    "\n",
    "            row_index = 2  # Starting row for data\n",
    "\n",
    "            # Loop through each whole slide sub-subfolder\n",
    "            for whole_slide_folder in os.listdir(subfolder_path):\n",
    "                whole_slide_path = os.path.join(subfolder_path, whole_slide_folder)\n",
    "\n",
    "                if os.path.isdir(whole_slide_path):\n",
    "                    # Get the number of patches for the slide\n",
    "                    num_patches = len(os.listdir(whole_slide_path))\n",
    "\n",
    "                    # Write slide name and number of patches to the sheet\n",
    "                    sheet.cell(row=row_index, column=1).value = whole_slide_folder\n",
    "                    sheet.cell(row=row_index, column=2).value = num_patches\n",
    "                    row_index += 1  # Move to the next row for the next slide\n",
    "\n",
    "    # Save the workbook as an Excel file\n",
    "    wb.save(\"patch_info.xlsx\")\n",
    "\n",
    "    print(\"Patch information saved to 'patch_info_count.xlsx'\")\n",
    "\n",
    "# Specify the folder path containing subfolders (0-16)\n",
    "folder_path = \"/home/jupyter/Patch_extraction\"\n",
    "write_patches_to_excel(folder_path)"
   ]
  },
  {
   "cell_type": "code",
   "execution_count": null,
   "id": "1fc84a35-2d35-4e26-8673-befa170397d2",
   "metadata": {},
   "outputs": [],
   "source": [
    "pip install treelib"
   ]
  },
  {
   "cell_type": "code",
   "execution_count": null,
   "id": "7a4fbf64-72e8-4e40-9050-98bafad2eb7d",
   "metadata": {},
   "outputs": [],
   "source": [
    "import os\n",
    "\n",
    "def print_tree(startpath):\n",
    "    for root, dirs, files in os.walk(startpath):\n",
    "        level = root.replace(startpath, '').count(os.sep)\n",
    "        indent = ' ' * 4 * (level)\n",
    "        print('{}{}/'.format(indent, os.path.basename(root)))\n",
    "        subindent = ' ' * 4 * (level + 1)\n",
    "        for f in files:\n",
    "            print('{}{}'.format(subindent, f))\n",
    "\n",
    "# Define the root folder\n",
    "root_folder = '/home/jupyter/Patch_extraction'\n",
    "\n",
    "# Print the directory tree\n",
    "print_tree(root_folder)\n"
   ]
  },
  {
   "cell_type": "code",
   "execution_count": 2,
   "id": "660a7d89-8e59-4cfd-997f-261832c940b8",
   "metadata": {},
   "outputs": [
    {
     "name": "stdout",
     "output_type": "stream",
     "text": [
      "Folder '/home/jupyter/Patch_extraction/10' deleted successfully.\n"
     ]
    }
   ],
   "source": [
    "\n",
    "### Delete Folder\n",
    "\n",
    "import shutil\n",
    "\n",
    "def delete_folder(folder_path):\n",
    "    try:\n",
    "        # Delete the folder and its contents\n",
    "        shutil.rmtree(folder_path)\n",
    "        print(f\"Folder '{folder_path}' deleted successfully.\")\n",
    "    except Exception as e:\n",
    "        print(f\"An error occurred: {e}\")\n",
    "\n",
    "# Call the function with the path of the folder you want to delete\n",
    "folder_path = \"/home/jupyter/Patch_extraction/10/76318\"\n",
    "delete_folder(folder_path)"
   ]
  },
  {
   "cell_type": "code",
   "execution_count": null,
   "id": "7e42d4ff-3ee3-4d30-9029-b5aa984392e1",
   "metadata": {},
   "outputs": [],
   "source": [
    "### Download Folder\n",
    "\n",
    "import shutil\n",
    "\n",
    "def download_local_directory(source_path, destination_path):\n",
    "    try:\n",
    "        # Copy the source directory to the destination\n",
    "        shutil.copytree(source_path, destination_path)\n",
    "        print(f\"Directory '{source_path}' downloaded to '{destination_path}' successfully.\")\n",
    "    except Exception as e:\n",
    "        print(f\"An error occurred: {e}\")\n",
    "\n",
    "# Call the function with source and destination paths\n",
    "source_path = \"/path/to/source/directory\"\n",
    "destination_path = \"/path/to/destination/directory\"\n",
    "download_local_directory(source_path, destination_path)"
   ]
  },
  {
   "cell_type": "code",
   "execution_count": null,
   "id": "afe6fabc-b15a-4c64-a763-950f0e8941cd",
   "metadata": {},
   "outputs": [],
   "source": [
    "### Move a folder\n",
    "\n",
    "import shutil\n",
    "\n",
    "def move_folder(source_path, destination_path):\n",
    "    try:\n",
    "        # Move the source folder to the destination\n",
    "        shutil.move(source_path, destination_path)\n",
    "        print(f\"Folder '{source_path}' moved to '{destination_path}' successfully.\")\n",
    "    except Exception as e:\n",
    "        print(f\"An error occurred: {e}\")\n",
    "\n",
    "# Call the function with source and destination paths\n",
    "source_path = \"/path/to/source/folder\"\n",
    "destination_path = \"/path/to/destination/folder\"\n",
    "move_folder(source_path, destination_path)"
   ]
  },
  {
   "cell_type": "code",
   "execution_count": 1,
   "id": "8cfdcbe0-b2bf-40e7-a538-7cb2395d3f95",
   "metadata": {},
   "outputs": [
    {
     "name": "stdout",
     "output_type": "stream",
     "text": [
      "Zip archive created: '/home/jupyter/Zip_file/5.zip'\n"
     ]
    }
   ],
   "source": [
    "## Creating Zip file\n",
    "import shutil\n",
    "\n",
    "def create_zip_archive(source_folder, destination_zip):\n",
    "    try:\n",
    "        # Create a zip archive of the source folder\n",
    "        shutil.make_archive(destination_zip, 'zip', source_folder)\n",
    "        print(f\"Zip archive created: '{destination_zip}.zip'\")\n",
    "    except Exception as e:\n",
    "        print(f\"An error occurred: {e}\")\n",
    "\n",
    "# Call the function with source folder and destination zip filename\n",
    "source_folder = \"/home/jupyter/Patch_extraction/5/\"\n",
    "destination_zip = \"/home/jupyter/Zip_file/5\"\n",
    "create_zip_archive(source_folder, destination_zip)"
   ]
  },
  {
   "cell_type": "code",
   "execution_count": null,
   "id": "a04f0a54-2bf2-4f29-9838-44081a5b9eee",
   "metadata": {},
   "outputs": [],
   "source": [
    "!pip install rarfile\n"
   ]
  },
  {
   "cell_type": "code",
   "execution_count": null,
   "id": "d8c119e8-bce2-447d-b030-90c2c206beaa",
   "metadata": {},
   "outputs": [],
   "source": [
    "import shutil\n",
    "\n",
    "def create_zip_archive(source_folder, destination_zip):\n",
    "    try:\n",
    "        # Create a zip archive of the source folder\n",
    "        shutil.make_archive(destination_zip, 'zip', source_folder)\n",
    "        print(f\"Zip archive created: '{destination_zip}.zip'\")\n",
    "    except Exception as e:\n",
    "        print(f\"An error occurred: {e}\")\n",
    "\n",
    "# Call the function with source folder and destination zip filename\n",
    "source_folder = \"/home/jupyter/Patch_extraction/0/78693\"\n",
    "destination_zip = \"/home/jupyter/76323\"\n",
    "create_zip_archive(source_folder, destination_zip)\n"
   ]
  },
  {
   "cell_type": "code",
   "execution_count": null,
   "id": "4abb82ee-c71f-4fa3-ab37-7a5884724a2e",
   "metadata": {},
   "outputs": [],
   "source": [
    "import os\n",
    "!sudo apt-get install openslide-tools -y\n",
    "!sudo apt-get install python-openslide -y\n",
    "!pip install openslide-python\n",
    "!pip install opencv-python\n",
    "\n",
    "import openslide\n",
    "\n",
    "folder_path = \"/home/jupyter/cadaver slide/\""
   ]
  },
  {
   "cell_type": "code",
   "execution_count": null,
   "id": "06c82268-1e2e-4530-9af2-51a0dc66f4be",
   "metadata": {},
   "outputs": [],
   "source": [
    "import os\n",
    "import openslide\n",
    "import csv\n",
    "from PIL import UnidentifiedImageError  # Import UnidentifiedImageError\n",
    "\n",
    "folder_path = \"/home/jupyter/cadaver slide/\"\n",
    "output_csv = \"/home/jupyter/corrupted_svs_files.csv\"\n"
   ]
  },
  {
   "cell_type": "code",
   "execution_count": null,
   "id": "a66b5b72-6a0c-42f5-962f-cdc0608ab96c",
   "metadata": {},
   "outputs": [],
   "source": [
    "def check_svs_files(folder_path):\n",
    "    corrupted_files = []  # To store the IDs of corrupted files\n",
    "    for filename in os.listdir(folder_path):\n",
    "        if filename.endswith(\".svs\"):\n",
    "            file_path = os.path.join(folder_path, filename)\n",
    "            try:\n",
    "                with openslide.open_slide(file_path) as slide:\n",
    "                    # Check if the slide properties can be accessed without errors\n",
    "                    slide.properties\n",
    "                    print(f\"{filename} is a valid SVS file.\")\n",
    "            except UnidentifiedImageError:\n",
    "                print(f\"{filename} is not a valid image file.\")\n",
    "                corrupted_files.append(filename)\n",
    "            except Exception as e:\n",
    "                print(f\"{filename} is corrupted or not uploaded correctly. Error: {str(e)}\")\n",
    "                corrupted_files.append(filename)\n",
    "\n",
    "    # Sort the corrupted file IDs in numeric order\n",
    "    corrupted_files = sorted(corrupted_files, key=lambda x: int(os.path.splitext(x)[0]))\n",
    "\n",
    "    # Save the IDs of corrupted files to a CSV file\n",
    "    if corrupted_files:\n",
    "        with open(output_csv, mode='w', newline='') as file:\n",
    "            writer = csv.writer(file)\n",
    "            writer.writerow([\"Corrupted File IDs\"])\n",
    "            writer.writerows([[id] for id in corrupted_files])\n",
    "\n",
    "check_svs_files(folder_path)\n"
   ]
  },
  {
   "cell_type": "code",
   "execution_count": null,
   "id": "e6d4fbad-3e18-415f-82ae-5ee9670274a2",
   "metadata": {},
   "outputs": [],
   "source": [
    "def count_files(folder_path):\n",
    "    file_count = 0\n",
    "    for _, _, files in os.walk(folder_path):\n",
    "        file_count += len(files)\n",
    "    return file_count\n",
    "\n",
    "total_files = count_files(folder_path)\n",
    "print(f\"Total number of files in the folder: {total_files}\")\n"
   ]
  },
  {
   "cell_type": "code",
   "execution_count": null,
   "id": "ca52c41b-6fb8-44a8-9ead-904d75d54ba8",
   "metadata": {},
   "outputs": [],
   "source": [
    "import os\n",
    "import csv\n",
    "\n",
    "def count_files_in_subfolders(root_dir):\n",
    "    # Dictionary to store the counts of files in each subfolder\n",
    "    folder_counts = {}\n",
    "\n",
    "    # Walk through the directory structure\n",
    "    for dirpath, dirnames, filenames in os.walk(root_dir):\n",
    "        # Sort subfolders in naming order\n",
    "        dirnames.sort()\n",
    "\n",
    "        # Count the number of files in the current directory\n",
    "        file_count = len(filenames)\n",
    "\n",
    "        # Update the dictionary with the count for the current subfolder\n",
    "        folder_counts[dirpath] = file_count\n",
    "\n",
    "    return folder_counts\n",
    "\n",
    "def save_counts_to_csv(counts, output_file):\n",
    "    # Write the counts to a CSV file\n",
    "    with open(output_file, 'w', newline='') as csvfile:\n",
    "        writer = csv.writer(csvfile)\n",
    "        writer.writerow(['Subfolder', 'File Count'])  # Write header\n",
    "        for folder, count in counts.items():\n",
    "            writer.writerow([folder, count])\n",
    "\n",
    "# Directory to analyze\n",
    "root_directory = '/home/jupyter/Patch_extraction/19'\n",
    "\n",
    "# Get counts of files in subfolders\n",
    "folder_counts = count_files_in_subfolders(root_directory)\n",
    "\n",
    "# Save counts to a CSV file\n",
    "output_csv = 'folder_file_counts.csv'\n",
    "save_counts_to_csv(folder_counts, output_csv)\n",
    "\n",
    "print(f\"File counts saved to '{output_csv}'\")\n"
   ]
  }
 ],
 "metadata": {
  "environment": {
   "kernel": "conda-root-py",
   "name": "workbench-notebooks.m109",
   "type": "gcloud",
   "uri": "gcr.io/deeplearning-platform-release/workbench-notebooks:m109"
  },
  "kernelspec": {
   "display_name": "Python 3",
   "language": "python",
   "name": "conda-root-py"
  },
  "language_info": {
   "codemirror_mode": {
    "name": "ipython",
    "version": 3
   },
   "file_extension": ".py",
   "mimetype": "text/x-python",
   "name": "python",
   "nbconvert_exporter": "python",
   "pygments_lexer": "ipython3",
   "version": "3.10.12"
  }
 },
 "nbformat": 4,
 "nbformat_minor": 5
}
